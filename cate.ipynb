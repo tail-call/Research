{
 "cells": [
  {
   "cell_type": "markdown",
   "metadata": {},
   "source": [
    "# Учебник по теории категорий\n",
    "\n",
    "## Упражнения\n",
    "\n",
    "### Упражнение 1.17\n",
    "\n",
    "Композиция двух изоморфизмов является изоморфизмом. Тождественные стрелки являются изоморфизмами. Стрелка, обратная к изоморфизму, является изоморфизмом. Для любых $A$ и $B$:\n",
    "\n",
    "1. $A = A$"
   ]
  },
  {
   "cell_type": "markdown",
   "metadata": {},
   "source": []
  }
 ],
 "metadata": {
  "kernelspec": {
   "display_name": "Python 3 (ipykernel)",
   "language": "python",
   "name": "python3"
  },
  "language_info": {
   "codemirror_mode": {
    "name": "ipython",
    "version": 3
   },
   "file_extension": ".py",
   "mimetype": "text/x-python",
   "name": "python",
   "nbconvert_exporter": "python",
   "pygments_lexer": "ipython3",
   "version": "3.12.4"
  }
 },
 "nbformat": 4,
 "nbformat_minor": 4
}
