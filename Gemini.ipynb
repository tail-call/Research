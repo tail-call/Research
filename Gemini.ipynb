{
 "cells": [
  {
   "cell_type": "code",
   "execution_count": 20,
   "id": "dc2a53b9",
   "metadata": {},
   "outputs": [
    {
     "name": "stdout",
     "output_type": "stream",
     "text": [
      "API Response:\n"
     ]
    },
    {
     "data": {
      "text/markdown": [
       "Fantastic! Congratulations on successfully using the Gemini API from a Jupyter Notebook! That's a great accomplishment. It means you've navigated the setup, authentication, and coding to interact with a powerful AI model. \n",
       "\n",
       "Well done! 🎉 You're one step closer to some really cool AI-powered projects! What are you planning to build with it?\n"
      ],
      "text/plain": [
       "<IPython.core.display.Markdown object>"
      ]
     },
     "metadata": {},
     "output_type": "display_data"
    }
   ],
   "source": [
    "import requests\n",
    "import json\n",
    "import os\n",
    "\n",
    "from IPython.display import Markdown, display\n",
    "\n",
    "\n",
    "home_dir = os.path.expanduser(\"~\")\n",
    "filepath = os.path.join(home_dir, 'GEMINI_KEY')\n",
    "with open(filepath, 'r') as f:\n",
    "    api_key = f.read()\n",
    "\n",
    "url = f'https://generativelanguage.googleapis.com/v1beta/models/gemini-2.0-flash:generateContent?key={api_key}'\n",
    "\n",
    "headers = {\n",
    "    'Content-Type': 'application/json'\n",
    "}\n",
    "\n",
    "prompt = \"\"\"\n",
    "\n",
    "Congratulate me for using a Gemini API from a Jupyter notebook\n",
    "\n",
    "\"\"\"\n",
    "\n",
    "data = {\n",
    "    \"contents\": [{\"parts\":[{\"text\": prompt}]}]\n",
    "}\n",
    "\n",
    "try:\n",
    "    response = requests.post(url, headers=headers, data=json.dumps(data))\n",
    "\n",
    "    if response.status_code == 200:\n",
    "        print(\"API Response:\")\n",
    "        display(Markdown((response.json()[\"candidates\"][0][\"content\"][\"parts\"][0][\"text\"])))\n",
    "    else:\n",
    "        print(f\"Error: {response.status_code}\")\n",
    "        print(response.text)  # Print the error message from the API\n",
    "except requests.exceptions.RequestException as e:\n",
    "    print(f\"Request failed: {e}\")"
   ]
  },
  {
   "cell_type": "code",
   "execution_count": null,
   "id": "c7a3ce05",
   "metadata": {},
   "outputs": [],
   "source": []
  }
 ],
 "metadata": {
  "kernelspec": {
   "display_name": "3.12.3",
   "language": "python",
   "name": "python3"
  },
  "language_info": {
   "codemirror_mode": {
    "name": "ipython",
    "version": 3
   },
   "file_extension": ".py",
   "mimetype": "text/x-python",
   "name": "python",
   "nbconvert_exporter": "python",
   "pygments_lexer": "ipython3",
   "version": "3.12.3"
  }
 },
 "nbformat": 4,
 "nbformat_minor": 5
}
