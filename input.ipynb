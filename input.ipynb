{
 "cells": [
  {
   "cell_type": "code",
   "execution_count": 2,
   "metadata": {},
   "outputs": [
    {
     "name": "stdout",
     "output_type": "stream",
     "text": [
      "You entered: meow\n"
     ]
    }
   ],
   "source": [
    "user_input = input(\"Please enter something: \")\n",
    "print(\"You entered:\", user_input)"
   ]
  },
  {
   "cell_type": "markdown",
   "metadata": {},
   "source": [
    "$$\\frac{\\partial L}{\\partial w_{ji}^{(k)}} = \\frac{\\partial L}{\\partial z_j^{(k)}} \\frac{\\partial z_j^{(k)}}{\\partial w_{ji}^{(k)}} = \\delta_j^{(k)} a_i^{(k-1)}$$"
   ]
  },
  {
   "cell_type": "markdown",
   "metadata": {},
   "source": [
    "$$\\left(\\frac{\\partial L}{\\partial w_{ji}^{(k)}}\\right)_{modified} = m_j \\cdot \\delta_j^{(k)} a_i^{(k-1)}$$"
   ]
  },
  {
   "cell_type": "markdown",
   "metadata": {},
   "source": [
    "$$\n",
    "m_j \\sim Bernoulli(p)\n",
    "$$"
   ]
  },
  {
   "cell_type": "markdown",
   "metadata": {},
   "source": [
    "Обновление веса:\n",
    "$$\n",
    "w_{ji}^{(k)}{[t+1]} = w_{ji}^{(k)}{[t]} - \\eta \\cdot m_j \\cdot \\delta_j^{(k)}{[t]} a_i^{(k-1)}{[t]}\n",
    "$$"
   ]
  },
  {
   "cell_type": "markdown",
   "metadata": {},
   "source": [
    "Ко-полезность:\n",
    "$$\n",
    "S_{w_{ji}^{(k)}} = m_j \\cdot \\delta_j^{(k)} a_i^{(k-1)}\n",
    "$$"
   ]
  },
  {
   "cell_type": "markdown",
   "metadata": {},
   "source": [
    "$$\n",
    "f_k*(W_k, Y_{k-1}, \\delta_k) = (\\Delta W_k, \\delta_{k-1})\n",
    "$$"
   ]
  },
  {
   "cell_type": "markdown",
   "metadata": {},
   "source": [
    "$$\n",
    "(\\Delta W_k)_{j,:} = m_j \\cdot (\\Delta W_k^{original})_{j,:}\n",
    "$$"
   ]
  },
  {
   "cell_type": "markdown",
   "metadata": {},
   "source": [
    "Дисперсия градиента\n",
    "\n",
    "$$\n",
    "Var((\\frac{\\partial L}{\\partial w_{ji}^{(k)}})_{modified}) = (\\delta_j^{(k)} a_i^{(k-1)})^2 \\cdot Var(m_j) = (\\delta_j^{(k)} a_i^{(k-1)})^2 \\cdot p(1-p)\n",
    "$$"
   ]
  },
  {
   "cell_type": "markdown",
   "metadata": {},
   "source": []
  }
 ],
 "metadata": {
  "kernelspec": {
   "display_name": "3.12.3",
   "language": "python",
   "name": "python3"
  },
  "language_info": {
   "codemirror_mode": {
    "name": "ipython",
    "version": 3
   },
   "file_extension": ".py",
   "mimetype": "text/x-python",
   "name": "python",
   "nbconvert_exporter": "python",
   "pygments_lexer": "ipython3",
   "version": "3.12.3"
  }
 },
 "nbformat": 4,
 "nbformat_minor": 2
}
