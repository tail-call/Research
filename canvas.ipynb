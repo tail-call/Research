{
 "cells": [
  {
   "cell_type": "code",
   "execution_count": 64,
   "metadata": {
    "vscode": {
     "languageId": "shellscript"
    }
   },
   "outputs": [
    {
     "name": "stdout",
     "output_type": "stream",
     "text": [
      "Requirement already satisfied: svgwrite in /Users/scales/.pyenv/versions/3.12.3/lib/python3.12/site-packages (1.4.3)\n",
      "\n",
      "\u001b[1m[\u001b[0m\u001b[34;49mnotice\u001b[0m\u001b[1;39;49m]\u001b[0m\u001b[39;49m A new release of pip is available: \u001b[0m\u001b[31;49m24.0\u001b[0m\u001b[39;49m -> \u001b[0m\u001b[32;49m24.3.1\u001b[0m\n",
      "\u001b[1m[\u001b[0m\u001b[34;49mnotice\u001b[0m\u001b[1;39;49m]\u001b[0m\u001b[39;49m To update, run: \u001b[0m\u001b[32;49mpip install --upgrade pip\u001b[0m\n",
      "Note: you may need to restart the kernel to use updated packages.\n"
     ]
    }
   ],
   "source": [
    "pip install svgwrite\n"
   ]
  },
  {
   "cell_type": "code",
   "execution_count": 65,
   "metadata": {},
   "outputs": [
    {
     "data": {
      "text/plain": [
       "[0.03620880698502149,\n",
       " 0.5256045523935632,\n",
       " 0.09370110610878979,\n",
       " 0.9246406187699578,\n",
       " 0.8836266939287829,\n",
       " 0.940092176352086,\n",
       " 0.16027230636244283,\n",
       " 0.9995594666933993,\n",
       " 0.7312780797991769,\n",
       " 0.3754418679412673]"
      ]
     },
     "execution_count": 65,
     "metadata": {},
     "output_type": "execute_result"
    }
   ],
   "source": [
    "import random\n",
    "def random_numbers(n):\n",
    "    return [random.random() for _ in range(n)]\n",
    "\n",
    "random_numbers(10)"
   ]
  },
  {
   "cell_type": "code",
   "execution_count": null,
   "metadata": {},
   "outputs": [],
   "source": []
  },
  {
   "cell_type": "markdown",
   "metadata": {},
   "source": [
    "Language"
   ]
  },
  {
   "cell_type": "code",
   "execution_count": 66,
   "metadata": {},
   "outputs": [],
   "source": [
    "from typing import TypedDict\n",
    "\n",
    "import svgwrite\n",
    "from svgwrite.utils import rgb\n",
    "\n",
    "from IPython.display import SVG, display\n",
    "\n",
    "class Layer(TypedDict):\n",
    "    size: int\n",
    "    weights: list[float]\n",
    "    biases: list[float]\n",
    "\n",
    "DWG = svgwrite.Drawing('example.svg', size=(800, 600))\n",
    "\n",
    "LAYER_SIZES = [8, 10, 6, 3, 5, 8, 12, 3]\n",
    "INPUTS = random_numbers(len(LAYER_SIZES))\n",
    "NEURON_SIZE = (20, 20)\n",
    "MIN_X = 80\n",
    "MIN_Y = 400\n",
    "NEURON_DISTANCE = 42\n",
    "LAYER_DISTANCE = 88\n",
    "\n",
    "LAYERS: list[Layer] = [{\n",
    "    'size': size,\n",
    "    'weights': random_numbers(size),\n",
    "    'biases': random_numbers(size),\n",
    "} for size in LAYER_SIZES]\n",
    "\n",
    "\n",
    "def neuron_color(value: float) -> str:\n",
    "    return rgb(value * 210, value * 222, value * 255)\n",
    "\n",
    "def relu(x: float, bias: float, weight: float) -> float:\n",
    "    return max(bias + weight * x, 0)\n",
    "\n",
    "def connection_color(value: float) -> str:\n",
    "    value = min(value, 1)\n",
    "    return rgb(value * 255, value * 255, value * 255)\n",
    "\n",
    "def draw_neuron(x: float, y: str, color: str):\n",
    "    DWG.add(DWG.rect(\n",
    "        insert=(x+2, y+2),\n",
    "        size=NEURON_SIZE,\n",
    "        fill=rgb(128*0.9*0.5, 160*0.9*0.5, 128*0.8*0.5),\n",
    "    ))\n",
    "    DWG.add(DWG.rect((x, y), NEURON_SIZE, fill=color))\n",
    "\n",
    "def draw_connection(\n",
    "    p1: tuple[float, float],\n",
    "    p2: tuple[float, float],\n",
    "    color: str,\n",
    "):\n",
    "    DWG.add(DWG.line(p1, p2, stroke=color, stroke_width=0.5))\n",
    "\n",
    "def draw_background(color: str):\n",
    "    DWG.add(DWG.rect(insert=(0, 0), size=('100%', '100%'), fill=color))\n",
    "\n",
    "def neuron_height():\n",
    "    return NEURON_SIZE[1]\n",
    "\n",
    "def layer_height(layer_i: int) -> float:\n",
    "    size = LAYERS[layer_i]['size']\n",
    "    return size * neuron_height() + (size - 1) * NEURON_DISTANCE\n",
    "\n",
    "def neuron_x(layer_i):\n",
    "    return MIN_X + layer_i * LAYER_DISTANCE\n",
    "\n",
    "def neuron_y(layer_i, neuron_i):\n",
    "    return (\n",
    "        MIN_Y\n",
    "        + neuron_i * NEURON_DISTANCE\n",
    "        - layer_height(layer_i) / 2\n",
    "    )\n",
    "\n",
    "def present():\n",
    "    display(SVG(DWG.tostring()))"
   ]
  },
  {
   "cell_type": "markdown",
   "metadata": {},
   "source": [
    "Program"
   ]
  },
  {
   "cell_type": "code",
   "execution_count": 67,
   "metadata": {},
   "outputs": [
    {
     "data": {
      "image/svg+xml": [
       "<svg xmlns=\"http://www.w3.org/2000/svg\" xmlns:ev=\"http://www.w3.org/2001/xml-events\" xmlns:xlink=\"http://www.w3.org/1999/xlink\" baseProfile=\"full\" height=\"600\" version=\"1.1\" width=\"800\"><defs/><rect fill=\"rgb(115,144,102)\" height=\"100%\" width=\"100%\" x=\"0\" y=\"0\"/><line stroke=\"rgb(73,73,73)\" stroke-width=\"0.5\" x1=\"90.0\" x2=\"178.0\" y1=\"183.0\" y2=\"121.0\"/><line stroke=\"rgb(73,73,73)\" stroke-width=\"0.5\" x1=\"90.0\" x2=\"178.0\" y1=\"183.0\" y2=\"163.0\"/><line stroke=\"rgb(73,73,73)\" stroke-width=\"0.5\" x1=\"90.0\" x2=\"178.0\" y1=\"183.0\" y2=\"205.0\"/><line stroke=\"rgb(73,73,73)\" stroke-width=\"0.5\" x1=\"90.0\" x2=\"178.0\" y1=\"183.0\" y2=\"247.0\"/><line stroke=\"rgb(73,73,73)\" stroke-width=\"0.5\" x1=\"90.0\" x2=\"178.0\" y1=\"183.0\" y2=\"289.0\"/><line stroke=\"rgb(73,73,73)\" stroke-width=\"0.5\" x1=\"90.0\" x2=\"178.0\" y1=\"183.0\" y2=\"331.0\"/><line stroke=\"rgb(73,73,73)\" stroke-width=\"0.5\" x1=\"90.0\" x2=\"178.0\" y1=\"183.0\" y2=\"373.0\"/><line stroke=\"rgb(73,73,73)\" stroke-width=\"0.5\" x1=\"90.0\" x2=\"178.0\" y1=\"183.0\" y2=\"415.0\"/><line stroke=\"rgb(73,73,73)\" stroke-width=\"0.5\" x1=\"90.0\" x2=\"178.0\" y1=\"183.0\" y2=\"457.0\"/><line stroke=\"rgb(73,73,73)\" stroke-width=\"0.5\" x1=\"90.0\" x2=\"178.0\" y1=\"183.0\" y2=\"499.0\"/><line stroke=\"rgb(140,140,140)\" stroke-width=\"0.5\" x1=\"90.0\" x2=\"178.0\" y1=\"225.0\" y2=\"121.0\"/><line stroke=\"rgb(140,140,140)\" stroke-width=\"0.5\" x1=\"90.0\" x2=\"178.0\" y1=\"225.0\" y2=\"163.0\"/><line stroke=\"rgb(140,140,140)\" stroke-width=\"0.5\" x1=\"90.0\" x2=\"178.0\" y1=\"225.0\" y2=\"205.0\"/><line stroke=\"rgb(140,140,140)\" stroke-width=\"0.5\" x1=\"90.0\" x2=\"178.0\" y1=\"225.0\" y2=\"247.0\"/><line stroke=\"rgb(140,140,140)\" stroke-width=\"0.5\" x1=\"90.0\" x2=\"178.0\" y1=\"225.0\" y2=\"289.0\"/><line stroke=\"rgb(140,140,140)\" stroke-width=\"0.5\" x1=\"90.0\" x2=\"178.0\" y1=\"225.0\" y2=\"331.0\"/><line stroke=\"rgb(140,140,140)\" stroke-width=\"0.5\" x1=\"90.0\" x2=\"178.0\" y1=\"225.0\" y2=\"373.0\"/><line stroke=\"rgb(140,140,140)\" stroke-width=\"0.5\" x1=\"90.0\" x2=\"178.0\" y1=\"225.0\" y2=\"415.0\"/><line stroke=\"rgb(140,140,140)\" stroke-width=\"0.5\" x1=\"90.0\" x2=\"178.0\" y1=\"225.0\" y2=\"457.0\"/><line stroke=\"rgb(140,140,140)\" stroke-width=\"0.5\" x1=\"90.0\" x2=\"178.0\" y1=\"225.0\" y2=\"499.0\"/><line stroke=\"rgb(150,150,150)\" stroke-width=\"0.5\" x1=\"90.0\" x2=\"178.0\" y1=\"267.0\" y2=\"121.0\"/><line stroke=\"rgb(150,150,150)\" stroke-width=\"0.5\" x1=\"90.0\" x2=\"178.0\" y1=\"267.0\" y2=\"163.0\"/><line stroke=\"rgb(150,150,150)\" stroke-width=\"0.5\" x1=\"90.0\" x2=\"178.0\" y1=\"267.0\" y2=\"205.0\"/><line stroke=\"rgb(150,150,150)\" stroke-width=\"0.5\" x1=\"90.0\" x2=\"178.0\" y1=\"267.0\" y2=\"247.0\"/><line stroke=\"rgb(150,150,150)\" stroke-width=\"0.5\" x1=\"90.0\" x2=\"178.0\" y1=\"267.0\" y2=\"289.0\"/><line stroke=\"rgb(150,150,150)\" stroke-width=\"0.5\" x1=\"90.0\" x2=\"178.0\" y1=\"267.0\" y2=\"331.0\"/><line stroke=\"rgb(150,150,150)\" stroke-width=\"0.5\" x1=\"90.0\" x2=\"178.0\" y1=\"267.0\" y2=\"373.0\"/><line stroke=\"rgb(150,150,150)\" stroke-width=\"0.5\" x1=\"90.0\" x2=\"178.0\" y1=\"267.0\" y2=\"415.0\"/><line stroke=\"rgb(150,150,150)\" stroke-width=\"0.5\" x1=\"90.0\" x2=\"178.0\" y1=\"267.0\" y2=\"457.0\"/><line stroke=\"rgb(150,150,150)\" stroke-width=\"0.5\" x1=\"90.0\" x2=\"178.0\" y1=\"267.0\" y2=\"499.0\"/><line stroke=\"rgb(162,162,162)\" stroke-width=\"0.5\" x1=\"90.0\" x2=\"178.0\" y1=\"309.0\" y2=\"121.0\"/><line stroke=\"rgb(162,162,162)\" stroke-width=\"0.5\" x1=\"90.0\" x2=\"178.0\" y1=\"309.0\" y2=\"163.0\"/><line stroke=\"rgb(162,162,162)\" stroke-width=\"0.5\" x1=\"90.0\" x2=\"178.0\" y1=\"309.0\" y2=\"205.0\"/><line stroke=\"rgb(162,162,162)\" stroke-width=\"0.5\" x1=\"90.0\" x2=\"178.0\" y1=\"309.0\" y2=\"247.0\"/><line stroke=\"rgb(162,162,162)\" stroke-width=\"0.5\" x1=\"90.0\" x2=\"178.0\" y1=\"309.0\" y2=\"289.0\"/><line stroke=\"rgb(162,162,162)\" stroke-width=\"0.5\" x1=\"90.0\" x2=\"178.0\" y1=\"309.0\" y2=\"331.0\"/><line stroke=\"rgb(162,162,162)\" stroke-width=\"0.5\" x1=\"90.0\" x2=\"178.0\" y1=\"309.0\" y2=\"373.0\"/><line stroke=\"rgb(162,162,162)\" stroke-width=\"0.5\" x1=\"90.0\" x2=\"178.0\" y1=\"309.0\" y2=\"415.0\"/><line stroke=\"rgb(162,162,162)\" stroke-width=\"0.5\" x1=\"90.0\" x2=\"178.0\" y1=\"309.0\" y2=\"457.0\"/><line stroke=\"rgb(162,162,162)\" stroke-width=\"0.5\" x1=\"90.0\" x2=\"178.0\" y1=\"309.0\" y2=\"499.0\"/><line stroke=\"rgb(255,255,255)\" stroke-width=\"0.5\" x1=\"90.0\" x2=\"178.0\" y1=\"351.0\" y2=\"121.0\"/><line stroke=\"rgb(255,255,255)\" stroke-width=\"0.5\" x1=\"90.0\" x2=\"178.0\" y1=\"351.0\" y2=\"163.0\"/><line stroke=\"rgb(255,255,255)\" stroke-width=\"0.5\" x1=\"90.0\" x2=\"178.0\" y1=\"351.0\" y2=\"205.0\"/><line stroke=\"rgb(255,255,255)\" stroke-width=\"0.5\" x1=\"90.0\" x2=\"178.0\" y1=\"351.0\" y2=\"247.0\"/><line stroke=\"rgb(255,255,255)\" stroke-width=\"0.5\" x1=\"90.0\" x2=\"178.0\" y1=\"351.0\" y2=\"289.0\"/><line stroke=\"rgb(255,255,255)\" stroke-width=\"0.5\" x1=\"90.0\" x2=\"178.0\" y1=\"351.0\" y2=\"331.0\"/><line stroke=\"rgb(255,255,255)\" stroke-width=\"0.5\" x1=\"90.0\" x2=\"178.0\" y1=\"351.0\" y2=\"373.0\"/><line stroke=\"rgb(255,255,255)\" stroke-width=\"0.5\" x1=\"90.0\" x2=\"178.0\" y1=\"351.0\" y2=\"415.0\"/><line stroke=\"rgb(255,255,255)\" stroke-width=\"0.5\" x1=\"90.0\" x2=\"178.0\" y1=\"351.0\" y2=\"457.0\"/><line stroke=\"rgb(255,255,255)\" stroke-width=\"0.5\" x1=\"90.0\" x2=\"178.0\" y1=\"351.0\" y2=\"499.0\"/><line stroke=\"rgb(142,142,142)\" stroke-width=\"0.5\" x1=\"90.0\" x2=\"178.0\" y1=\"393.0\" y2=\"121.0\"/><line stroke=\"rgb(142,142,142)\" stroke-width=\"0.5\" x1=\"90.0\" x2=\"178.0\" y1=\"393.0\" y2=\"163.0\"/><line stroke=\"rgb(142,142,142)\" stroke-width=\"0.5\" x1=\"90.0\" x2=\"178.0\" y1=\"393.0\" y2=\"205.0\"/><line stroke=\"rgb(142,142,142)\" stroke-width=\"0.5\" x1=\"90.0\" x2=\"178.0\" y1=\"393.0\" y2=\"247.0\"/><line stroke=\"rgb(142,142,142)\" stroke-width=\"0.5\" x1=\"90.0\" x2=\"178.0\" y1=\"393.0\" y2=\"289.0\"/><line stroke=\"rgb(142,142,142)\" stroke-width=\"0.5\" x1=\"90.0\" x2=\"178.0\" y1=\"393.0\" y2=\"331.0\"/><line stroke=\"rgb(142,142,142)\" stroke-width=\"0.5\" x1=\"90.0\" x2=\"178.0\" y1=\"393.0\" y2=\"373.0\"/><line stroke=\"rgb(142,142,142)\" stroke-width=\"0.5\" x1=\"90.0\" x2=\"178.0\" y1=\"393.0\" y2=\"415.0\"/><line stroke=\"rgb(142,142,142)\" stroke-width=\"0.5\" x1=\"90.0\" x2=\"178.0\" y1=\"393.0\" y2=\"457.0\"/><line stroke=\"rgb(142,142,142)\" stroke-width=\"0.5\" x1=\"90.0\" x2=\"178.0\" y1=\"393.0\" y2=\"499.0\"/><line stroke=\"rgb(188,188,188)\" stroke-width=\"0.5\" x1=\"90.0\" x2=\"178.0\" y1=\"435.0\" y2=\"121.0\"/><line stroke=\"rgb(188,188,188)\" stroke-width=\"0.5\" x1=\"90.0\" x2=\"178.0\" y1=\"435.0\" y2=\"163.0\"/><line stroke=\"rgb(188,188,188)\" stroke-width=\"0.5\" x1=\"90.0\" x2=\"178.0\" y1=\"435.0\" y2=\"205.0\"/><line stroke=\"rgb(188,188,188)\" stroke-width=\"0.5\" x1=\"90.0\" x2=\"178.0\" y1=\"435.0\" y2=\"247.0\"/><line stroke=\"rgb(188,188,188)\" stroke-width=\"0.5\" x1=\"90.0\" x2=\"178.0\" y1=\"435.0\" y2=\"289.0\"/><line stroke=\"rgb(188,188,188)\" stroke-width=\"0.5\" x1=\"90.0\" x2=\"178.0\" y1=\"435.0\" y2=\"331.0\"/><line stroke=\"rgb(188,188,188)\" stroke-width=\"0.5\" x1=\"90.0\" x2=\"178.0\" y1=\"435.0\" y2=\"373.0\"/><line stroke=\"rgb(188,188,188)\" stroke-width=\"0.5\" x1=\"90.0\" x2=\"178.0\" y1=\"435.0\" y2=\"415.0\"/><line stroke=\"rgb(188,188,188)\" stroke-width=\"0.5\" x1=\"90.0\" x2=\"178.0\" y1=\"435.0\" y2=\"457.0\"/><line stroke=\"rgb(188,188,188)\" stroke-width=\"0.5\" x1=\"90.0\" x2=\"178.0\" y1=\"435.0\" y2=\"499.0\"/><line stroke=\"rgb(255,255,255)\" stroke-width=\"0.5\" x1=\"90.0\" x2=\"178.0\" y1=\"477.0\" y2=\"121.0\"/><line stroke=\"rgb(255,255,255)\" stroke-width=\"0.5\" x1=\"90.0\" x2=\"178.0\" y1=\"477.0\" y2=\"163.0\"/><line stroke=\"rgb(255,255,255)\" stroke-width=\"0.5\" x1=\"90.0\" x2=\"178.0\" y1=\"477.0\" y2=\"205.0\"/><line stroke=\"rgb(255,255,255)\" stroke-width=\"0.5\" x1=\"90.0\" x2=\"178.0\" y1=\"477.0\" y2=\"247.0\"/><line stroke=\"rgb(255,255,255)\" stroke-width=\"0.5\" x1=\"90.0\" x2=\"178.0\" y1=\"477.0\" y2=\"289.0\"/><line stroke=\"rgb(255,255,255)\" stroke-width=\"0.5\" x1=\"90.0\" x2=\"178.0\" y1=\"477.0\" y2=\"331.0\"/><line stroke=\"rgb(255,255,255)\" stroke-width=\"0.5\" x1=\"90.0\" x2=\"178.0\" y1=\"477.0\" y2=\"373.0\"/><line stroke=\"rgb(255,255,255)\" stroke-width=\"0.5\" x1=\"90.0\" x2=\"178.0\" y1=\"477.0\" y2=\"415.0\"/><line stroke=\"rgb(255,255,255)\" stroke-width=\"0.5\" x1=\"90.0\" x2=\"178.0\" y1=\"477.0\" y2=\"457.0\"/><line stroke=\"rgb(255,255,255)\" stroke-width=\"0.5\" x1=\"90.0\" x2=\"178.0\" y1=\"477.0\" y2=\"499.0\"/><line stroke=\"rgb(249,249,249)\" stroke-width=\"0.5\" x1=\"178.0\" x2=\"266.0\" y1=\"121.0\" y2=\"245.0\"/><line stroke=\"rgb(249,249,249)\" stroke-width=\"0.5\" x1=\"178.0\" x2=\"266.0\" y1=\"121.0\" y2=\"287.0\"/><line stroke=\"rgb(249,249,249)\" stroke-width=\"0.5\" x1=\"178.0\" x2=\"266.0\" y1=\"121.0\" y2=\"329.0\"/><line stroke=\"rgb(249,249,249)\" stroke-width=\"0.5\" x1=\"178.0\" x2=\"266.0\" y1=\"121.0\" y2=\"371.0\"/><line stroke=\"rgb(249,249,249)\" stroke-width=\"0.5\" x1=\"178.0\" x2=\"266.0\" y1=\"121.0\" y2=\"413.0\"/><line stroke=\"rgb(249,249,249)\" stroke-width=\"0.5\" x1=\"178.0\" x2=\"266.0\" y1=\"121.0\" y2=\"455.0\"/><line stroke=\"rgb(29,29,29)\" stroke-width=\"0.5\" x1=\"178.0\" x2=\"266.0\" y1=\"163.0\" y2=\"245.0\"/><line stroke=\"rgb(29,29,29)\" stroke-width=\"0.5\" x1=\"178.0\" x2=\"266.0\" y1=\"163.0\" y2=\"287.0\"/><line stroke=\"rgb(29,29,29)\" stroke-width=\"0.5\" x1=\"178.0\" x2=\"266.0\" y1=\"163.0\" y2=\"329.0\"/><line stroke=\"rgb(29,29,29)\" stroke-width=\"0.5\" x1=\"178.0\" x2=\"266.0\" y1=\"163.0\" y2=\"371.0\"/><line stroke=\"rgb(29,29,29)\" stroke-width=\"0.5\" x1=\"178.0\" x2=\"266.0\" y1=\"163.0\" y2=\"413.0\"/><line stroke=\"rgb(29,29,29)\" stroke-width=\"0.5\" x1=\"178.0\" x2=\"266.0\" y1=\"163.0\" y2=\"455.0\"/><line stroke=\"rgb(206,206,206)\" stroke-width=\"0.5\" x1=\"178.0\" x2=\"266.0\" y1=\"205.0\" y2=\"245.0\"/><line stroke=\"rgb(206,206,206)\" stroke-width=\"0.5\" x1=\"178.0\" x2=\"266.0\" y1=\"205.0\" y2=\"287.0\"/><line stroke=\"rgb(206,206,206)\" stroke-width=\"0.5\" x1=\"178.0\" x2=\"266.0\" y1=\"205.0\" y2=\"329.0\"/><line stroke=\"rgb(206,206,206)\" stroke-width=\"0.5\" x1=\"178.0\" x2=\"266.0\" y1=\"205.0\" y2=\"371.0\"/><line stroke=\"rgb(206,206,206)\" stroke-width=\"0.5\" x1=\"178.0\" x2=\"266.0\" y1=\"205.0\" y2=\"413.0\"/><line stroke=\"rgb(206,206,206)\" stroke-width=\"0.5\" x1=\"178.0\" x2=\"266.0\" y1=\"205.0\" y2=\"455.0\"/><line stroke=\"rgb(174,174,174)\" stroke-width=\"0.5\" x1=\"178.0\" x2=\"266.0\" y1=\"247.0\" y2=\"245.0\"/><line stroke=\"rgb(174,174,174)\" stroke-width=\"0.5\" x1=\"178.0\" x2=\"266.0\" y1=\"247.0\" y2=\"287.0\"/><line stroke=\"rgb(174,174,174)\" stroke-width=\"0.5\" x1=\"178.0\" x2=\"266.0\" y1=\"247.0\" y2=\"329.0\"/><line stroke=\"rgb(174,174,174)\" stroke-width=\"0.5\" x1=\"178.0\" x2=\"266.0\" y1=\"247.0\" y2=\"371.0\"/><line stroke=\"rgb(174,174,174)\" stroke-width=\"0.5\" x1=\"178.0\" x2=\"266.0\" y1=\"247.0\" y2=\"413.0\"/><line stroke=\"rgb(174,174,174)\" stroke-width=\"0.5\" x1=\"178.0\" x2=\"266.0\" y1=\"247.0\" y2=\"455.0\"/><line stroke=\"rgb(123,123,123)\" stroke-width=\"0.5\" x1=\"178.0\" x2=\"266.0\" y1=\"289.0\" y2=\"245.0\"/><line stroke=\"rgb(123,123,123)\" stroke-width=\"0.5\" x1=\"178.0\" x2=\"266.0\" y1=\"289.0\" y2=\"287.0\"/><line stroke=\"rgb(123,123,123)\" stroke-width=\"0.5\" x1=\"178.0\" x2=\"266.0\" y1=\"289.0\" y2=\"329.0\"/><line stroke=\"rgb(123,123,123)\" stroke-width=\"0.5\" x1=\"178.0\" x2=\"266.0\" y1=\"289.0\" y2=\"371.0\"/><line stroke=\"rgb(123,123,123)\" stroke-width=\"0.5\" x1=\"178.0\" x2=\"266.0\" y1=\"289.0\" y2=\"413.0\"/><line stroke=\"rgb(123,123,123)\" stroke-width=\"0.5\" x1=\"178.0\" x2=\"266.0\" y1=\"289.0\" y2=\"455.0\"/><line stroke=\"rgb(197,197,197)\" stroke-width=\"0.5\" x1=\"178.0\" x2=\"266.0\" y1=\"331.0\" y2=\"245.0\"/><line stroke=\"rgb(197,197,197)\" stroke-width=\"0.5\" x1=\"178.0\" x2=\"266.0\" y1=\"331.0\" y2=\"287.0\"/><line stroke=\"rgb(197,197,197)\" stroke-width=\"0.5\" x1=\"178.0\" x2=\"266.0\" y1=\"331.0\" y2=\"329.0\"/><line stroke=\"rgb(197,197,197)\" stroke-width=\"0.5\" x1=\"178.0\" x2=\"266.0\" y1=\"331.0\" y2=\"371.0\"/><line stroke=\"rgb(197,197,197)\" stroke-width=\"0.5\" x1=\"178.0\" x2=\"266.0\" y1=\"331.0\" y2=\"413.0\"/><line stroke=\"rgb(197,197,197)\" stroke-width=\"0.5\" x1=\"178.0\" x2=\"266.0\" y1=\"331.0\" y2=\"455.0\"/><line stroke=\"rgb(255,255,255)\" stroke-width=\"0.5\" x1=\"178.0\" x2=\"266.0\" y1=\"373.0\" y2=\"245.0\"/><line stroke=\"rgb(255,255,255)\" stroke-width=\"0.5\" x1=\"178.0\" x2=\"266.0\" y1=\"373.0\" y2=\"287.0\"/><line stroke=\"rgb(255,255,255)\" stroke-width=\"0.5\" x1=\"178.0\" x2=\"266.0\" y1=\"373.0\" y2=\"329.0\"/><line stroke=\"rgb(255,255,255)\" stroke-width=\"0.5\" x1=\"178.0\" x2=\"266.0\" y1=\"373.0\" y2=\"371.0\"/><line stroke=\"rgb(255,255,255)\" stroke-width=\"0.5\" x1=\"178.0\" x2=\"266.0\" y1=\"373.0\" y2=\"413.0\"/><line stroke=\"rgb(255,255,255)\" stroke-width=\"0.5\" x1=\"178.0\" x2=\"266.0\" y1=\"373.0\" y2=\"455.0\"/><line stroke=\"rgb(181,181,181)\" stroke-width=\"0.5\" x1=\"178.0\" x2=\"266.0\" y1=\"415.0\" y2=\"245.0\"/><line stroke=\"rgb(181,181,181)\" stroke-width=\"0.5\" x1=\"178.0\" x2=\"266.0\" y1=\"415.0\" y2=\"287.0\"/><line stroke=\"rgb(181,181,181)\" stroke-width=\"0.5\" x1=\"178.0\" x2=\"266.0\" y1=\"415.0\" y2=\"329.0\"/><line stroke=\"rgb(181,181,181)\" stroke-width=\"0.5\" x1=\"178.0\" x2=\"266.0\" y1=\"415.0\" y2=\"371.0\"/><line stroke=\"rgb(181,181,181)\" stroke-width=\"0.5\" x1=\"178.0\" x2=\"266.0\" y1=\"415.0\" y2=\"413.0\"/><line stroke=\"rgb(181,181,181)\" stroke-width=\"0.5\" x1=\"178.0\" x2=\"266.0\" y1=\"415.0\" y2=\"455.0\"/><line stroke=\"rgb(183,183,183)\" stroke-width=\"0.5\" x1=\"178.0\" x2=\"266.0\" y1=\"457.0\" y2=\"245.0\"/><line stroke=\"rgb(183,183,183)\" stroke-width=\"0.5\" x1=\"178.0\" x2=\"266.0\" y1=\"457.0\" y2=\"287.0\"/><line stroke=\"rgb(183,183,183)\" stroke-width=\"0.5\" x1=\"178.0\" x2=\"266.0\" y1=\"457.0\" y2=\"329.0\"/><line stroke=\"rgb(183,183,183)\" stroke-width=\"0.5\" x1=\"178.0\" x2=\"266.0\" y1=\"457.0\" y2=\"371.0\"/><line stroke=\"rgb(183,183,183)\" stroke-width=\"0.5\" x1=\"178.0\" x2=\"266.0\" y1=\"457.0\" y2=\"413.0\"/><line stroke=\"rgb(183,183,183)\" stroke-width=\"0.5\" x1=\"178.0\" x2=\"266.0\" y1=\"457.0\" y2=\"455.0\"/><line stroke=\"rgb(11,11,11)\" stroke-width=\"0.5\" x1=\"178.0\" x2=\"266.0\" y1=\"499.0\" y2=\"245.0\"/><line stroke=\"rgb(11,11,11)\" stroke-width=\"0.5\" x1=\"178.0\" x2=\"266.0\" y1=\"499.0\" y2=\"287.0\"/><line stroke=\"rgb(11,11,11)\" stroke-width=\"0.5\" x1=\"178.0\" x2=\"266.0\" y1=\"499.0\" y2=\"329.0\"/><line stroke=\"rgb(11,11,11)\" stroke-width=\"0.5\" x1=\"178.0\" x2=\"266.0\" y1=\"499.0\" y2=\"371.0\"/><line stroke=\"rgb(11,11,11)\" stroke-width=\"0.5\" x1=\"178.0\" x2=\"266.0\" y1=\"499.0\" y2=\"413.0\"/><line stroke=\"rgb(11,11,11)\" stroke-width=\"0.5\" x1=\"178.0\" x2=\"266.0\" y1=\"499.0\" y2=\"455.0\"/><line stroke=\"rgb(160,160,160)\" stroke-width=\"0.5\" x1=\"266.0\" x2=\"354.0\" y1=\"245.0\" y2=\"338.0\"/><line stroke=\"rgb(160,160,160)\" stroke-width=\"0.5\" x1=\"266.0\" x2=\"354.0\" y1=\"245.0\" y2=\"380.0\"/><line stroke=\"rgb(160,160,160)\" stroke-width=\"0.5\" x1=\"266.0\" x2=\"354.0\" y1=\"245.0\" y2=\"422.0\"/><line stroke=\"rgb(226,226,226)\" stroke-width=\"0.5\" x1=\"266.0\" x2=\"354.0\" y1=\"287.0\" y2=\"338.0\"/><line stroke=\"rgb(226,226,226)\" stroke-width=\"0.5\" x1=\"266.0\" x2=\"354.0\" y1=\"287.0\" y2=\"380.0\"/><line stroke=\"rgb(226,226,226)\" stroke-width=\"0.5\" x1=\"266.0\" x2=\"354.0\" y1=\"287.0\" y2=\"422.0\"/><line stroke=\"rgb(196,196,196)\" stroke-width=\"0.5\" x1=\"266.0\" x2=\"354.0\" y1=\"329.0\" y2=\"338.0\"/><line stroke=\"rgb(196,196,196)\" stroke-width=\"0.5\" x1=\"266.0\" x2=\"354.0\" y1=\"329.0\" y2=\"380.0\"/><line stroke=\"rgb(196,196,196)\" stroke-width=\"0.5\" x1=\"266.0\" x2=\"354.0\" y1=\"329.0\" y2=\"422.0\"/><line stroke=\"rgb(202,202,202)\" stroke-width=\"0.5\" x1=\"266.0\" x2=\"354.0\" y1=\"371.0\" y2=\"338.0\"/><line stroke=\"rgb(202,202,202)\" stroke-width=\"0.5\" x1=\"266.0\" x2=\"354.0\" y1=\"371.0\" y2=\"380.0\"/><line stroke=\"rgb(202,202,202)\" stroke-width=\"0.5\" x1=\"266.0\" x2=\"354.0\" y1=\"371.0\" y2=\"422.0\"/><line stroke=\"rgb(255,255,255)\" stroke-width=\"0.5\" x1=\"266.0\" x2=\"354.0\" y1=\"413.0\" y2=\"338.0\"/><line stroke=\"rgb(255,255,255)\" stroke-width=\"0.5\" x1=\"266.0\" x2=\"354.0\" y1=\"413.0\" y2=\"380.0\"/><line stroke=\"rgb(255,255,255)\" stroke-width=\"0.5\" x1=\"266.0\" x2=\"354.0\" y1=\"413.0\" y2=\"422.0\"/><line stroke=\"rgb(225,225,225)\" stroke-width=\"0.5\" x1=\"266.0\" x2=\"354.0\" y1=\"455.0\" y2=\"338.0\"/><line stroke=\"rgb(225,225,225)\" stroke-width=\"0.5\" x1=\"266.0\" x2=\"354.0\" y1=\"455.0\" y2=\"380.0\"/><line stroke=\"rgb(225,225,225)\" stroke-width=\"0.5\" x1=\"266.0\" x2=\"354.0\" y1=\"455.0\" y2=\"422.0\"/><line stroke=\"rgb(113,113,113)\" stroke-width=\"0.5\" x1=\"354.0\" x2=\"442.0\" y1=\"338.0\" y2=\"276.0\"/><line stroke=\"rgb(113,113,113)\" stroke-width=\"0.5\" x1=\"354.0\" x2=\"442.0\" y1=\"338.0\" y2=\"318.0\"/><line stroke=\"rgb(113,113,113)\" stroke-width=\"0.5\" x1=\"354.0\" x2=\"442.0\" y1=\"338.0\" y2=\"360.0\"/><line stroke=\"rgb(113,113,113)\" stroke-width=\"0.5\" x1=\"354.0\" x2=\"442.0\" y1=\"338.0\" y2=\"402.0\"/><line stroke=\"rgb(113,113,113)\" stroke-width=\"0.5\" x1=\"354.0\" x2=\"442.0\" y1=\"338.0\" y2=\"444.0\"/><line stroke=\"rgb(70,70,70)\" stroke-width=\"0.5\" x1=\"354.0\" x2=\"442.0\" y1=\"380.0\" y2=\"276.0\"/><line stroke=\"rgb(70,70,70)\" stroke-width=\"0.5\" x1=\"354.0\" x2=\"442.0\" y1=\"380.0\" y2=\"318.0\"/><line stroke=\"rgb(70,70,70)\" stroke-width=\"0.5\" x1=\"354.0\" x2=\"442.0\" y1=\"380.0\" y2=\"360.0\"/><line stroke=\"rgb(70,70,70)\" stroke-width=\"0.5\" x1=\"354.0\" x2=\"442.0\" y1=\"380.0\" y2=\"402.0\"/><line stroke=\"rgb(70,70,70)\" stroke-width=\"0.5\" x1=\"354.0\" x2=\"442.0\" y1=\"380.0\" y2=\"444.0\"/><line stroke=\"rgb(82,82,82)\" stroke-width=\"0.5\" x1=\"354.0\" x2=\"442.0\" y1=\"422.0\" y2=\"276.0\"/><line stroke=\"rgb(82,82,82)\" stroke-width=\"0.5\" x1=\"354.0\" x2=\"442.0\" y1=\"422.0\" y2=\"318.0\"/><line stroke=\"rgb(82,82,82)\" stroke-width=\"0.5\" x1=\"354.0\" x2=\"442.0\" y1=\"422.0\" y2=\"360.0\"/><line stroke=\"rgb(82,82,82)\" stroke-width=\"0.5\" x1=\"354.0\" x2=\"442.0\" y1=\"422.0\" y2=\"402.0\"/><line stroke=\"rgb(82,82,82)\" stroke-width=\"0.5\" x1=\"354.0\" x2=\"442.0\" y1=\"422.0\" y2=\"444.0\"/><line stroke=\"rgb(255,255,255)\" stroke-width=\"0.5\" x1=\"442.0\" x2=\"530.0\" y1=\"276.0\" y2=\"183.0\"/><line stroke=\"rgb(255,255,255)\" stroke-width=\"0.5\" x1=\"442.0\" x2=\"530.0\" y1=\"276.0\" y2=\"225.0\"/><line stroke=\"rgb(255,255,255)\" stroke-width=\"0.5\" x1=\"442.0\" x2=\"530.0\" y1=\"276.0\" y2=\"267.0\"/><line stroke=\"rgb(255,255,255)\" stroke-width=\"0.5\" x1=\"442.0\" x2=\"530.0\" y1=\"276.0\" y2=\"309.0\"/><line stroke=\"rgb(255,255,255)\" stroke-width=\"0.5\" x1=\"442.0\" x2=\"530.0\" y1=\"276.0\" y2=\"351.0\"/><line stroke=\"rgb(255,255,255)\" stroke-width=\"0.5\" x1=\"442.0\" x2=\"530.0\" y1=\"276.0\" y2=\"393.0\"/><line stroke=\"rgb(255,255,255)\" stroke-width=\"0.5\" x1=\"442.0\" x2=\"530.0\" y1=\"276.0\" y2=\"435.0\"/><line stroke=\"rgb(255,255,255)\" stroke-width=\"0.5\" x1=\"442.0\" x2=\"530.0\" y1=\"276.0\" y2=\"477.0\"/><line stroke=\"rgb(9,9,9)\" stroke-width=\"0.5\" x1=\"442.0\" x2=\"530.0\" y1=\"318.0\" y2=\"183.0\"/><line stroke=\"rgb(9,9,9)\" stroke-width=\"0.5\" x1=\"442.0\" x2=\"530.0\" y1=\"318.0\" y2=\"225.0\"/><line stroke=\"rgb(9,9,9)\" stroke-width=\"0.5\" x1=\"442.0\" x2=\"530.0\" y1=\"318.0\" y2=\"267.0\"/><line stroke=\"rgb(9,9,9)\" stroke-width=\"0.5\" x1=\"442.0\" x2=\"530.0\" y1=\"318.0\" y2=\"309.0\"/><line stroke=\"rgb(9,9,9)\" stroke-width=\"0.5\" x1=\"442.0\" x2=\"530.0\" y1=\"318.0\" y2=\"351.0\"/><line stroke=\"rgb(9,9,9)\" stroke-width=\"0.5\" x1=\"442.0\" x2=\"530.0\" y1=\"318.0\" y2=\"393.0\"/><line stroke=\"rgb(9,9,9)\" stroke-width=\"0.5\" x1=\"442.0\" x2=\"530.0\" y1=\"318.0\" y2=\"435.0\"/><line stroke=\"rgb(9,9,9)\" stroke-width=\"0.5\" x1=\"442.0\" x2=\"530.0\" y1=\"318.0\" y2=\"477.0\"/><line stroke=\"rgb(136,136,136)\" stroke-width=\"0.5\" x1=\"442.0\" x2=\"530.0\" y1=\"360.0\" y2=\"183.0\"/><line stroke=\"rgb(136,136,136)\" stroke-width=\"0.5\" x1=\"442.0\" x2=\"530.0\" y1=\"360.0\" y2=\"225.0\"/><line stroke=\"rgb(136,136,136)\" stroke-width=\"0.5\" x1=\"442.0\" x2=\"530.0\" y1=\"360.0\" y2=\"267.0\"/><line stroke=\"rgb(136,136,136)\" stroke-width=\"0.5\" x1=\"442.0\" x2=\"530.0\" y1=\"360.0\" y2=\"309.0\"/><line stroke=\"rgb(136,136,136)\" stroke-width=\"0.5\" x1=\"442.0\" x2=\"530.0\" y1=\"360.0\" y2=\"351.0\"/><line stroke=\"rgb(136,136,136)\" stroke-width=\"0.5\" x1=\"442.0\" x2=\"530.0\" y1=\"360.0\" y2=\"393.0\"/><line stroke=\"rgb(136,136,136)\" stroke-width=\"0.5\" x1=\"442.0\" x2=\"530.0\" y1=\"360.0\" y2=\"435.0\"/><line stroke=\"rgb(136,136,136)\" stroke-width=\"0.5\" x1=\"442.0\" x2=\"530.0\" y1=\"360.0\" y2=\"477.0\"/><line stroke=\"rgb(137,137,137)\" stroke-width=\"0.5\" x1=\"442.0\" x2=\"530.0\" y1=\"402.0\" y2=\"183.0\"/><line stroke=\"rgb(137,137,137)\" stroke-width=\"0.5\" x1=\"442.0\" x2=\"530.0\" y1=\"402.0\" y2=\"225.0\"/><line stroke=\"rgb(137,137,137)\" stroke-width=\"0.5\" x1=\"442.0\" x2=\"530.0\" y1=\"402.0\" y2=\"267.0\"/><line stroke=\"rgb(137,137,137)\" stroke-width=\"0.5\" x1=\"442.0\" x2=\"530.0\" y1=\"402.0\" y2=\"309.0\"/><line stroke=\"rgb(137,137,137)\" stroke-width=\"0.5\" x1=\"442.0\" x2=\"530.0\" y1=\"402.0\" y2=\"351.0\"/><line stroke=\"rgb(137,137,137)\" stroke-width=\"0.5\" x1=\"442.0\" x2=\"530.0\" y1=\"402.0\" y2=\"393.0\"/><line stroke=\"rgb(137,137,137)\" stroke-width=\"0.5\" x1=\"442.0\" x2=\"530.0\" y1=\"402.0\" y2=\"435.0\"/><line stroke=\"rgb(137,137,137)\" stroke-width=\"0.5\" x1=\"442.0\" x2=\"530.0\" y1=\"402.0\" y2=\"477.0\"/><line stroke=\"rgb(255,255,255)\" stroke-width=\"0.5\" x1=\"442.0\" x2=\"530.0\" y1=\"444.0\" y2=\"183.0\"/><line stroke=\"rgb(255,255,255)\" stroke-width=\"0.5\" x1=\"442.0\" x2=\"530.0\" y1=\"444.0\" y2=\"225.0\"/><line stroke=\"rgb(255,255,255)\" stroke-width=\"0.5\" x1=\"442.0\" x2=\"530.0\" y1=\"444.0\" y2=\"267.0\"/><line stroke=\"rgb(255,255,255)\" stroke-width=\"0.5\" x1=\"442.0\" x2=\"530.0\" y1=\"444.0\" y2=\"309.0\"/><line stroke=\"rgb(255,255,255)\" stroke-width=\"0.5\" x1=\"442.0\" x2=\"530.0\" y1=\"444.0\" y2=\"351.0\"/><line stroke=\"rgb(255,255,255)\" stroke-width=\"0.5\" x1=\"442.0\" x2=\"530.0\" y1=\"444.0\" y2=\"393.0\"/><line stroke=\"rgb(255,255,255)\" stroke-width=\"0.5\" x1=\"442.0\" x2=\"530.0\" y1=\"444.0\" y2=\"435.0\"/><line stroke=\"rgb(255,255,255)\" stroke-width=\"0.5\" x1=\"442.0\" x2=\"530.0\" y1=\"444.0\" y2=\"477.0\"/><line stroke=\"rgb(138,138,138)\" stroke-width=\"0.5\" x1=\"530.0\" x2=\"618.0\" y1=\"183.0\" y2=\"59.0\"/><line stroke=\"rgb(138,138,138)\" stroke-width=\"0.5\" x1=\"530.0\" x2=\"618.0\" y1=\"183.0\" y2=\"101.0\"/><line stroke=\"rgb(138,138,138)\" stroke-width=\"0.5\" x1=\"530.0\" x2=\"618.0\" y1=\"183.0\" y2=\"143.0\"/><line stroke=\"rgb(138,138,138)\" stroke-width=\"0.5\" x1=\"530.0\" x2=\"618.0\" y1=\"183.0\" y2=\"185.0\"/><line stroke=\"rgb(138,138,138)\" stroke-width=\"0.5\" x1=\"530.0\" x2=\"618.0\" y1=\"183.0\" y2=\"227.0\"/><line stroke=\"rgb(138,138,138)\" stroke-width=\"0.5\" x1=\"530.0\" x2=\"618.0\" y1=\"183.0\" y2=\"269.0\"/><line stroke=\"rgb(138,138,138)\" stroke-width=\"0.5\" x1=\"530.0\" x2=\"618.0\" y1=\"183.0\" y2=\"311.0\"/><line stroke=\"rgb(138,138,138)\" stroke-width=\"0.5\" x1=\"530.0\" x2=\"618.0\" y1=\"183.0\" y2=\"353.0\"/><line stroke=\"rgb(138,138,138)\" stroke-width=\"0.5\" x1=\"530.0\" x2=\"618.0\" y1=\"183.0\" y2=\"395.0\"/><line stroke=\"rgb(138,138,138)\" stroke-width=\"0.5\" x1=\"530.0\" x2=\"618.0\" y1=\"183.0\" y2=\"437.0\"/><line stroke=\"rgb(138,138,138)\" stroke-width=\"0.5\" x1=\"530.0\" x2=\"618.0\" y1=\"183.0\" y2=\"479.0\"/><line stroke=\"rgb(138,138,138)\" stroke-width=\"0.5\" x1=\"530.0\" x2=\"618.0\" y1=\"183.0\" y2=\"521.0\"/><line stroke=\"rgb(166,166,166)\" stroke-width=\"0.5\" x1=\"530.0\" x2=\"618.0\" y1=\"225.0\" y2=\"59.0\"/><line stroke=\"rgb(166,166,166)\" stroke-width=\"0.5\" x1=\"530.0\" x2=\"618.0\" y1=\"225.0\" y2=\"101.0\"/><line stroke=\"rgb(166,166,166)\" stroke-width=\"0.5\" x1=\"530.0\" x2=\"618.0\" y1=\"225.0\" y2=\"143.0\"/><line stroke=\"rgb(166,166,166)\" stroke-width=\"0.5\" x1=\"530.0\" x2=\"618.0\" y1=\"225.0\" y2=\"185.0\"/><line stroke=\"rgb(166,166,166)\" stroke-width=\"0.5\" x1=\"530.0\" x2=\"618.0\" y1=\"225.0\" y2=\"227.0\"/><line stroke=\"rgb(166,166,166)\" stroke-width=\"0.5\" x1=\"530.0\" x2=\"618.0\" y1=\"225.0\" y2=\"269.0\"/><line stroke=\"rgb(166,166,166)\" stroke-width=\"0.5\" x1=\"530.0\" x2=\"618.0\" y1=\"225.0\" y2=\"311.0\"/><line stroke=\"rgb(166,166,166)\" stroke-width=\"0.5\" x1=\"530.0\" x2=\"618.0\" y1=\"225.0\" y2=\"353.0\"/><line stroke=\"rgb(166,166,166)\" stroke-width=\"0.5\" x1=\"530.0\" x2=\"618.0\" y1=\"225.0\" y2=\"395.0\"/><line stroke=\"rgb(166,166,166)\" stroke-width=\"0.5\" x1=\"530.0\" x2=\"618.0\" y1=\"225.0\" y2=\"437.0\"/><line stroke=\"rgb(166,166,166)\" stroke-width=\"0.5\" x1=\"530.0\" x2=\"618.0\" y1=\"225.0\" y2=\"479.0\"/><line stroke=\"rgb(166,166,166)\" stroke-width=\"0.5\" x1=\"530.0\" x2=\"618.0\" y1=\"225.0\" y2=\"521.0\"/><line stroke=\"rgb(201,201,201)\" stroke-width=\"0.5\" x1=\"530.0\" x2=\"618.0\" y1=\"267.0\" y2=\"59.0\"/><line stroke=\"rgb(201,201,201)\" stroke-width=\"0.5\" x1=\"530.0\" x2=\"618.0\" y1=\"267.0\" y2=\"101.0\"/><line stroke=\"rgb(201,201,201)\" stroke-width=\"0.5\" x1=\"530.0\" x2=\"618.0\" y1=\"267.0\" y2=\"143.0\"/><line stroke=\"rgb(201,201,201)\" stroke-width=\"0.5\" x1=\"530.0\" x2=\"618.0\" y1=\"267.0\" y2=\"185.0\"/><line stroke=\"rgb(201,201,201)\" stroke-width=\"0.5\" x1=\"530.0\" x2=\"618.0\" y1=\"267.0\" y2=\"227.0\"/><line stroke=\"rgb(201,201,201)\" stroke-width=\"0.5\" x1=\"530.0\" x2=\"618.0\" y1=\"267.0\" y2=\"269.0\"/><line stroke=\"rgb(201,201,201)\" stroke-width=\"0.5\" x1=\"530.0\" x2=\"618.0\" y1=\"267.0\" y2=\"311.0\"/><line stroke=\"rgb(201,201,201)\" stroke-width=\"0.5\" x1=\"530.0\" x2=\"618.0\" y1=\"267.0\" y2=\"353.0\"/><line stroke=\"rgb(201,201,201)\" stroke-width=\"0.5\" x1=\"530.0\" x2=\"618.0\" y1=\"267.0\" y2=\"395.0\"/><line stroke=\"rgb(201,201,201)\" stroke-width=\"0.5\" x1=\"530.0\" x2=\"618.0\" y1=\"267.0\" y2=\"437.0\"/><line stroke=\"rgb(201,201,201)\" stroke-width=\"0.5\" x1=\"530.0\" x2=\"618.0\" y1=\"267.0\" y2=\"479.0\"/><line stroke=\"rgb(201,201,201)\" stroke-width=\"0.5\" x1=\"530.0\" x2=\"618.0\" y1=\"267.0\" y2=\"521.0\"/><line stroke=\"rgb(140,140,140)\" stroke-width=\"0.5\" x1=\"530.0\" x2=\"618.0\" y1=\"309.0\" y2=\"59.0\"/><line stroke=\"rgb(140,140,140)\" stroke-width=\"0.5\" x1=\"530.0\" x2=\"618.0\" y1=\"309.0\" y2=\"101.0\"/><line stroke=\"rgb(140,140,140)\" stroke-width=\"0.5\" x1=\"530.0\" x2=\"618.0\" y1=\"309.0\" y2=\"143.0\"/><line stroke=\"rgb(140,140,140)\" stroke-width=\"0.5\" x1=\"530.0\" x2=\"618.0\" y1=\"309.0\" y2=\"185.0\"/><line stroke=\"rgb(140,140,140)\" stroke-width=\"0.5\" x1=\"530.0\" x2=\"618.0\" y1=\"309.0\" y2=\"227.0\"/><line stroke=\"rgb(140,140,140)\" stroke-width=\"0.5\" x1=\"530.0\" x2=\"618.0\" y1=\"309.0\" y2=\"269.0\"/><line stroke=\"rgb(140,140,140)\" stroke-width=\"0.5\" x1=\"530.0\" x2=\"618.0\" y1=\"309.0\" y2=\"311.0\"/><line stroke=\"rgb(140,140,140)\" stroke-width=\"0.5\" x1=\"530.0\" x2=\"618.0\" y1=\"309.0\" y2=\"353.0\"/><line stroke=\"rgb(140,140,140)\" stroke-width=\"0.5\" x1=\"530.0\" x2=\"618.0\" y1=\"309.0\" y2=\"395.0\"/><line stroke=\"rgb(140,140,140)\" stroke-width=\"0.5\" x1=\"530.0\" x2=\"618.0\" y1=\"309.0\" y2=\"437.0\"/><line stroke=\"rgb(140,140,140)\" stroke-width=\"0.5\" x1=\"530.0\" x2=\"618.0\" y1=\"309.0\" y2=\"479.0\"/><line stroke=\"rgb(140,140,140)\" stroke-width=\"0.5\" x1=\"530.0\" x2=\"618.0\" y1=\"309.0\" y2=\"521.0\"/><line stroke=\"rgb(173,173,173)\" stroke-width=\"0.5\" x1=\"530.0\" x2=\"618.0\" y1=\"351.0\" y2=\"59.0\"/><line stroke=\"rgb(173,173,173)\" stroke-width=\"0.5\" x1=\"530.0\" x2=\"618.0\" y1=\"351.0\" y2=\"101.0\"/><line stroke=\"rgb(173,173,173)\" stroke-width=\"0.5\" x1=\"530.0\" x2=\"618.0\" y1=\"351.0\" y2=\"143.0\"/><line stroke=\"rgb(173,173,173)\" stroke-width=\"0.5\" x1=\"530.0\" x2=\"618.0\" y1=\"351.0\" y2=\"185.0\"/><line stroke=\"rgb(173,173,173)\" stroke-width=\"0.5\" x1=\"530.0\" x2=\"618.0\" y1=\"351.0\" y2=\"227.0\"/><line stroke=\"rgb(173,173,173)\" stroke-width=\"0.5\" x1=\"530.0\" x2=\"618.0\" y1=\"351.0\" y2=\"269.0\"/><line stroke=\"rgb(173,173,173)\" stroke-width=\"0.5\" x1=\"530.0\" x2=\"618.0\" y1=\"351.0\" y2=\"311.0\"/><line stroke=\"rgb(173,173,173)\" stroke-width=\"0.5\" x1=\"530.0\" x2=\"618.0\" y1=\"351.0\" y2=\"353.0\"/><line stroke=\"rgb(173,173,173)\" stroke-width=\"0.5\" x1=\"530.0\" x2=\"618.0\" y1=\"351.0\" y2=\"395.0\"/><line stroke=\"rgb(173,173,173)\" stroke-width=\"0.5\" x1=\"530.0\" x2=\"618.0\" y1=\"351.0\" y2=\"437.0\"/><line stroke=\"rgb(173,173,173)\" stroke-width=\"0.5\" x1=\"530.0\" x2=\"618.0\" y1=\"351.0\" y2=\"479.0\"/><line stroke=\"rgb(173,173,173)\" stroke-width=\"0.5\" x1=\"530.0\" x2=\"618.0\" y1=\"351.0\" y2=\"521.0\"/><line stroke=\"rgb(121,121,121)\" stroke-width=\"0.5\" x1=\"530.0\" x2=\"618.0\" y1=\"393.0\" y2=\"59.0\"/><line stroke=\"rgb(121,121,121)\" stroke-width=\"0.5\" x1=\"530.0\" x2=\"618.0\" y1=\"393.0\" y2=\"101.0\"/><line stroke=\"rgb(121,121,121)\" stroke-width=\"0.5\" x1=\"530.0\" x2=\"618.0\" y1=\"393.0\" y2=\"143.0\"/><line stroke=\"rgb(121,121,121)\" stroke-width=\"0.5\" x1=\"530.0\" x2=\"618.0\" y1=\"393.0\" y2=\"185.0\"/><line stroke=\"rgb(121,121,121)\" stroke-width=\"0.5\" x1=\"530.0\" x2=\"618.0\" y1=\"393.0\" y2=\"227.0\"/><line stroke=\"rgb(121,121,121)\" stroke-width=\"0.5\" x1=\"530.0\" x2=\"618.0\" y1=\"393.0\" y2=\"269.0\"/><line stroke=\"rgb(121,121,121)\" stroke-width=\"0.5\" x1=\"530.0\" x2=\"618.0\" y1=\"393.0\" y2=\"311.0\"/><line stroke=\"rgb(121,121,121)\" stroke-width=\"0.5\" x1=\"530.0\" x2=\"618.0\" y1=\"393.0\" y2=\"353.0\"/><line stroke=\"rgb(121,121,121)\" stroke-width=\"0.5\" x1=\"530.0\" x2=\"618.0\" y1=\"393.0\" y2=\"395.0\"/><line stroke=\"rgb(121,121,121)\" stroke-width=\"0.5\" x1=\"530.0\" x2=\"618.0\" y1=\"393.0\" y2=\"437.0\"/><line stroke=\"rgb(121,121,121)\" stroke-width=\"0.5\" x1=\"530.0\" x2=\"618.0\" y1=\"393.0\" y2=\"479.0\"/><line stroke=\"rgb(121,121,121)\" stroke-width=\"0.5\" x1=\"530.0\" x2=\"618.0\" y1=\"393.0\" y2=\"521.0\"/><line stroke=\"rgb(167,167,167)\" stroke-width=\"0.5\" x1=\"530.0\" x2=\"618.0\" y1=\"435.0\" y2=\"59.0\"/><line stroke=\"rgb(167,167,167)\" stroke-width=\"0.5\" x1=\"530.0\" x2=\"618.0\" y1=\"435.0\" y2=\"101.0\"/><line stroke=\"rgb(167,167,167)\" stroke-width=\"0.5\" x1=\"530.0\" x2=\"618.0\" y1=\"435.0\" y2=\"143.0\"/><line stroke=\"rgb(167,167,167)\" stroke-width=\"0.5\" x1=\"530.0\" x2=\"618.0\" y1=\"435.0\" y2=\"185.0\"/><line stroke=\"rgb(167,167,167)\" stroke-width=\"0.5\" x1=\"530.0\" x2=\"618.0\" y1=\"435.0\" y2=\"227.0\"/><line stroke=\"rgb(167,167,167)\" stroke-width=\"0.5\" x1=\"530.0\" x2=\"618.0\" y1=\"435.0\" y2=\"269.0\"/><line stroke=\"rgb(167,167,167)\" stroke-width=\"0.5\" x1=\"530.0\" x2=\"618.0\" y1=\"435.0\" y2=\"311.0\"/><line stroke=\"rgb(167,167,167)\" stroke-width=\"0.5\" x1=\"530.0\" x2=\"618.0\" y1=\"435.0\" y2=\"353.0\"/><line stroke=\"rgb(167,167,167)\" stroke-width=\"0.5\" x1=\"530.0\" x2=\"618.0\" y1=\"435.0\" y2=\"395.0\"/><line stroke=\"rgb(167,167,167)\" stroke-width=\"0.5\" x1=\"530.0\" x2=\"618.0\" y1=\"435.0\" y2=\"437.0\"/><line stroke=\"rgb(167,167,167)\" stroke-width=\"0.5\" x1=\"530.0\" x2=\"618.0\" y1=\"435.0\" y2=\"479.0\"/><line stroke=\"rgb(167,167,167)\" stroke-width=\"0.5\" x1=\"530.0\" x2=\"618.0\" y1=\"435.0\" y2=\"521.0\"/><line stroke=\"rgb(90,90,90)\" stroke-width=\"0.5\" x1=\"530.0\" x2=\"618.0\" y1=\"477.0\" y2=\"59.0\"/><line stroke=\"rgb(90,90,90)\" stroke-width=\"0.5\" x1=\"530.0\" x2=\"618.0\" y1=\"477.0\" y2=\"101.0\"/><line stroke=\"rgb(90,90,90)\" stroke-width=\"0.5\" x1=\"530.0\" x2=\"618.0\" y1=\"477.0\" y2=\"143.0\"/><line stroke=\"rgb(90,90,90)\" stroke-width=\"0.5\" x1=\"530.0\" x2=\"618.0\" y1=\"477.0\" y2=\"185.0\"/><line stroke=\"rgb(90,90,90)\" stroke-width=\"0.5\" x1=\"530.0\" x2=\"618.0\" y1=\"477.0\" y2=\"227.0\"/><line stroke=\"rgb(90,90,90)\" stroke-width=\"0.5\" x1=\"530.0\" x2=\"618.0\" y1=\"477.0\" y2=\"269.0\"/><line stroke=\"rgb(90,90,90)\" stroke-width=\"0.5\" x1=\"530.0\" x2=\"618.0\" y1=\"477.0\" y2=\"311.0\"/><line stroke=\"rgb(90,90,90)\" stroke-width=\"0.5\" x1=\"530.0\" x2=\"618.0\" y1=\"477.0\" y2=\"353.0\"/><line stroke=\"rgb(90,90,90)\" stroke-width=\"0.5\" x1=\"530.0\" x2=\"618.0\" y1=\"477.0\" y2=\"395.0\"/><line stroke=\"rgb(90,90,90)\" stroke-width=\"0.5\" x1=\"530.0\" x2=\"618.0\" y1=\"477.0\" y2=\"437.0\"/><line stroke=\"rgb(90,90,90)\" stroke-width=\"0.5\" x1=\"530.0\" x2=\"618.0\" y1=\"477.0\" y2=\"479.0\"/><line stroke=\"rgb(90,90,90)\" stroke-width=\"0.5\" x1=\"530.0\" x2=\"618.0\" y1=\"477.0\" y2=\"521.0\"/><line stroke=\"rgb(106,106,106)\" stroke-width=\"0.5\" x1=\"618.0\" x2=\"706.0\" y1=\"59.0\" y2=\"338.0\"/><line stroke=\"rgb(106,106,106)\" stroke-width=\"0.5\" x1=\"618.0\" x2=\"706.0\" y1=\"59.0\" y2=\"380.0\"/><line stroke=\"rgb(106,106,106)\" stroke-width=\"0.5\" x1=\"618.0\" x2=\"706.0\" y1=\"59.0\" y2=\"422.0\"/><line stroke=\"rgb(255,255,255)\" stroke-width=\"0.5\" x1=\"618.0\" x2=\"706.0\" y1=\"101.0\" y2=\"338.0\"/><line stroke=\"rgb(255,255,255)\" stroke-width=\"0.5\" x1=\"618.0\" x2=\"706.0\" y1=\"101.0\" y2=\"380.0\"/><line stroke=\"rgb(255,255,255)\" stroke-width=\"0.5\" x1=\"618.0\" x2=\"706.0\" y1=\"101.0\" y2=\"422.0\"/><line stroke=\"rgb(108,108,108)\" stroke-width=\"0.5\" x1=\"618.0\" x2=\"706.0\" y1=\"143.0\" y2=\"338.0\"/><line stroke=\"rgb(108,108,108)\" stroke-width=\"0.5\" x1=\"618.0\" x2=\"706.0\" y1=\"143.0\" y2=\"380.0\"/><line stroke=\"rgb(108,108,108)\" stroke-width=\"0.5\" x1=\"618.0\" x2=\"706.0\" y1=\"143.0\" y2=\"422.0\"/><line stroke=\"rgb(88,88,88)\" stroke-width=\"0.5\" x1=\"618.0\" x2=\"706.0\" y1=\"185.0\" y2=\"338.0\"/><line stroke=\"rgb(88,88,88)\" stroke-width=\"0.5\" x1=\"618.0\" x2=\"706.0\" y1=\"185.0\" y2=\"380.0\"/><line stroke=\"rgb(88,88,88)\" stroke-width=\"0.5\" x1=\"618.0\" x2=\"706.0\" y1=\"185.0\" y2=\"422.0\"/><line stroke=\"rgb(204,204,204)\" stroke-width=\"0.5\" x1=\"618.0\" x2=\"706.0\" y1=\"227.0\" y2=\"338.0\"/><line stroke=\"rgb(204,204,204)\" stroke-width=\"0.5\" x1=\"618.0\" x2=\"706.0\" y1=\"227.0\" y2=\"380.0\"/><line stroke=\"rgb(204,204,204)\" stroke-width=\"0.5\" x1=\"618.0\" x2=\"706.0\" y1=\"227.0\" y2=\"422.0\"/><line stroke=\"rgb(137,137,137)\" stroke-width=\"0.5\" x1=\"618.0\" x2=\"706.0\" y1=\"269.0\" y2=\"338.0\"/><line stroke=\"rgb(137,137,137)\" stroke-width=\"0.5\" x1=\"618.0\" x2=\"706.0\" y1=\"269.0\" y2=\"380.0\"/><line stroke=\"rgb(137,137,137)\" stroke-width=\"0.5\" x1=\"618.0\" x2=\"706.0\" y1=\"269.0\" y2=\"422.0\"/><line stroke=\"rgb(229,229,229)\" stroke-width=\"0.5\" x1=\"618.0\" x2=\"706.0\" y1=\"311.0\" y2=\"338.0\"/><line stroke=\"rgb(229,229,229)\" stroke-width=\"0.5\" x1=\"618.0\" x2=\"706.0\" y1=\"311.0\" y2=\"380.0\"/><line stroke=\"rgb(229,229,229)\" stroke-width=\"0.5\" x1=\"618.0\" x2=\"706.0\" y1=\"311.0\" y2=\"422.0\"/><line stroke=\"rgb(255,255,255)\" stroke-width=\"0.5\" x1=\"618.0\" x2=\"706.0\" y1=\"353.0\" y2=\"338.0\"/><line stroke=\"rgb(255,255,255)\" stroke-width=\"0.5\" x1=\"618.0\" x2=\"706.0\" y1=\"353.0\" y2=\"380.0\"/><line stroke=\"rgb(255,255,255)\" stroke-width=\"0.5\" x1=\"618.0\" x2=\"706.0\" y1=\"353.0\" y2=\"422.0\"/><line stroke=\"rgb(255,255,255)\" stroke-width=\"0.5\" x1=\"618.0\" x2=\"706.0\" y1=\"395.0\" y2=\"338.0\"/><line stroke=\"rgb(255,255,255)\" stroke-width=\"0.5\" x1=\"618.0\" x2=\"706.0\" y1=\"395.0\" y2=\"380.0\"/><line stroke=\"rgb(255,255,255)\" stroke-width=\"0.5\" x1=\"618.0\" x2=\"706.0\" y1=\"395.0\" y2=\"422.0\"/><line stroke=\"rgb(133,133,133)\" stroke-width=\"0.5\" x1=\"618.0\" x2=\"706.0\" y1=\"437.0\" y2=\"338.0\"/><line stroke=\"rgb(133,133,133)\" stroke-width=\"0.5\" x1=\"618.0\" x2=\"706.0\" y1=\"437.0\" y2=\"380.0\"/><line stroke=\"rgb(133,133,133)\" stroke-width=\"0.5\" x1=\"618.0\" x2=\"706.0\" y1=\"437.0\" y2=\"422.0\"/><line stroke=\"rgb(254,254,254)\" stroke-width=\"0.5\" x1=\"618.0\" x2=\"706.0\" y1=\"479.0\" y2=\"338.0\"/><line stroke=\"rgb(254,254,254)\" stroke-width=\"0.5\" x1=\"618.0\" x2=\"706.0\" y1=\"479.0\" y2=\"380.0\"/><line stroke=\"rgb(254,254,254)\" stroke-width=\"0.5\" x1=\"618.0\" x2=\"706.0\" y1=\"479.0\" y2=\"422.0\"/><line stroke=\"rgb(191,191,191)\" stroke-width=\"0.5\" x1=\"618.0\" x2=\"706.0\" y1=\"521.0\" y2=\"338.0\"/><line stroke=\"rgb(191,191,191)\" stroke-width=\"0.5\" x1=\"618.0\" x2=\"706.0\" y1=\"521.0\" y2=\"380.0\"/><line stroke=\"rgb(191,191,191)\" stroke-width=\"0.5\" x1=\"618.0\" x2=\"706.0\" y1=\"521.0\" y2=\"422.0\"/><rect fill=\"rgb(57,72,51)\" height=\"20\" width=\"20\" x=\"82\" y=\"175.0\"/><rect fill=\"rgb(99,105,121)\" height=\"20\" width=\"20\" x=\"80\" y=\"173.0\"/><rect fill=\"rgb(57,72,51)\" height=\"20\" width=\"20\" x=\"82\" y=\"217.0\"/><rect fill=\"rgb(30,32,36)\" height=\"20\" width=\"20\" x=\"80\" y=\"215.0\"/><rect fill=\"rgb(57,72,51)\" height=\"20\" width=\"20\" x=\"82\" y=\"259.0\"/><rect fill=\"rgb(201,213,244)\" height=\"20\" width=\"20\" x=\"80\" y=\"257.0\"/><rect fill=\"rgb(57,72,51)\" height=\"20\" width=\"20\" x=\"82\" y=\"301.0\"/><rect fill=\"rgb(172,182,209)\" height=\"20\" width=\"20\" x=\"80\" y=\"299.0\"/><rect fill=\"rgb(57,72,51)\" height=\"20\" width=\"20\" x=\"82\" y=\"343.0\"/><rect fill=\"rgb(205,216,248)\" height=\"20\" width=\"20\" x=\"80\" y=\"341.0\"/><rect fill=\"rgb(57,72,51)\" height=\"20\" width=\"20\" x=\"82\" y=\"385.0\"/><rect fill=\"rgb(60,64,73)\" height=\"20\" width=\"20\" x=\"80\" y=\"383.0\"/><rect fill=\"rgb(57,72,51)\" height=\"20\" width=\"20\" x=\"82\" y=\"427.0\"/><rect fill=\"rgb(167,176,203)\" height=\"20\" width=\"20\" x=\"80\" y=\"425.0\"/><rect fill=\"rgb(57,72,51)\" height=\"20\" width=\"20\" x=\"82\" y=\"469.0\"/><rect fill=\"rgb(41,44,50)\" height=\"20\" width=\"20\" x=\"80\" y=\"467.0\"/><rect fill=\"rgb(57,72,51)\" height=\"20\" width=\"20\" x=\"170\" y=\"113.0\"/><rect fill=\"rgb(35,37,42)\" height=\"20\" width=\"20\" x=\"168\" y=\"111.0\"/><rect fill=\"rgb(57,72,51)\" height=\"20\" width=\"20\" x=\"170\" y=\"155.0\"/><rect fill=\"rgb(73,77,89)\" height=\"20\" width=\"20\" x=\"168\" y=\"153.0\"/><rect fill=\"rgb(57,72,51)\" height=\"20\" width=\"20\" x=\"170\" y=\"197.0\"/><rect fill=\"rgb(127,134,154)\" height=\"20\" width=\"20\" x=\"168\" y=\"195.0\"/><rect fill=\"rgb(57,72,51)\" height=\"20\" width=\"20\" x=\"170\" y=\"239.0\"/><rect fill=\"rgb(194,205,236)\" height=\"20\" width=\"20\" x=\"168\" y=\"237.0\"/><rect fill=\"rgb(57,72,51)\" height=\"20\" width=\"20\" x=\"170\" y=\"281.0\"/><rect fill=\"rgb(49,51,59)\" height=\"20\" width=\"20\" x=\"168\" y=\"279.0\"/><rect fill=\"rgb(57,72,51)\" height=\"20\" width=\"20\" x=\"170\" y=\"323.0\"/><rect fill=\"rgb(43,46,53)\" height=\"20\" width=\"20\" x=\"168\" y=\"321.0\"/><rect fill=\"rgb(57,72,51)\" height=\"20\" width=\"20\" x=\"170\" y=\"365.0\"/><rect fill=\"rgb(191,201,232)\" height=\"20\" width=\"20\" x=\"168\" y=\"363.0\"/><rect fill=\"rgb(57,72,51)\" height=\"20\" width=\"20\" x=\"170\" y=\"407.0\"/><rect fill=\"rgb(158,168,193)\" height=\"20\" width=\"20\" x=\"168\" y=\"405.0\"/><rect fill=\"rgb(57,72,51)\" height=\"20\" width=\"20\" x=\"170\" y=\"449.0\"/><rect fill=\"rgb(46,49,56)\" height=\"20\" width=\"20\" x=\"168\" y=\"447.0\"/><rect fill=\"rgb(57,72,51)\" height=\"20\" width=\"20\" x=\"170\" y=\"491.0\"/><rect fill=\"rgb(18,19,22)\" height=\"20\" width=\"20\" x=\"168\" y=\"489.0\"/><rect fill=\"rgb(57,72,51)\" height=\"20\" width=\"20\" x=\"258\" y=\"237.0\"/><rect fill=\"rgb(162,171,197)\" height=\"20\" width=\"20\" x=\"256\" y=\"235.0\"/><rect fill=\"rgb(57,72,51)\" height=\"20\" width=\"20\" x=\"258\" y=\"279.0\"/><rect fill=\"rgb(165,174,200)\" height=\"20\" width=\"20\" x=\"256\" y=\"277.0\"/><rect fill=\"rgb(57,72,51)\" height=\"20\" width=\"20\" x=\"258\" y=\"321.0\"/><rect fill=\"rgb(188,199,229)\" height=\"20\" width=\"20\" x=\"256\" y=\"319.0\"/><rect fill=\"rgb(57,72,51)\" height=\"20\" width=\"20\" x=\"258\" y=\"363.0\"/><rect fill=\"rgb(56,59,68)\" height=\"20\" width=\"20\" x=\"256\" y=\"361.0\"/><rect fill=\"rgb(57,72,51)\" height=\"20\" width=\"20\" x=\"258\" y=\"405.0\"/><rect fill=\"rgb(121,128,147)\" height=\"20\" width=\"20\" x=\"256\" y=\"403.0\"/><rect fill=\"rgb(57,72,51)\" height=\"20\" width=\"20\" x=\"258\" y=\"447.0\"/><rect fill=\"rgb(106,112,129)\" height=\"20\" width=\"20\" x=\"256\" y=\"445.0\"/><rect fill=\"rgb(57,72,51)\" height=\"20\" width=\"20\" x=\"346\" y=\"330.0\"/><rect fill=\"rgb(123,130,149)\" height=\"20\" width=\"20\" x=\"344\" y=\"328.0\"/><rect fill=\"rgb(57,72,51)\" height=\"20\" width=\"20\" x=\"346\" y=\"372.0\"/><rect fill=\"rgb(156,165,189)\" height=\"20\" width=\"20\" x=\"344\" y=\"370.0\"/><rect fill=\"rgb(57,72,51)\" height=\"20\" width=\"20\" x=\"346\" y=\"414.0\"/><rect fill=\"rgb(13,13,16)\" height=\"20\" width=\"20\" x=\"344\" y=\"412.0\"/><rect fill=\"rgb(57,72,51)\" height=\"20\" width=\"20\" x=\"434\" y=\"268.0\"/><rect fill=\"rgb(200,212,243)\" height=\"20\" width=\"20\" x=\"432\" y=\"266.0\"/><rect fill=\"rgb(57,72,51)\" height=\"20\" width=\"20\" x=\"434\" y=\"310.0\"/><rect fill=\"rgb(29,31,35)\" height=\"20\" width=\"20\" x=\"432\" y=\"308.0\"/><rect fill=\"rgb(57,72,51)\" height=\"20\" width=\"20\" x=\"434\" y=\"352.0\"/><rect fill=\"rgb(200,211,243)\" height=\"20\" width=\"20\" x=\"432\" y=\"350.0\"/><rect fill=\"rgb(57,72,51)\" height=\"20\" width=\"20\" x=\"434\" y=\"394.0\"/><rect fill=\"rgb(91,97,111)\" height=\"20\" width=\"20\" x=\"432\" y=\"392.0\"/><rect fill=\"rgb(57,72,51)\" height=\"20\" width=\"20\" x=\"434\" y=\"436.0\"/><rect fill=\"rgb(57,61,70)\" height=\"20\" width=\"20\" x=\"432\" y=\"434.0\"/><rect fill=\"rgb(57,72,51)\" height=\"20\" width=\"20\" x=\"522\" y=\"175.0\"/><rect fill=\"rgb(83,88,101)\" height=\"20\" width=\"20\" x=\"520\" y=\"173.0\"/><rect fill=\"rgb(57,72,51)\" height=\"20\" width=\"20\" x=\"522\" y=\"217.0\"/><rect fill=\"rgb(106,112,129)\" height=\"20\" width=\"20\" x=\"520\" y=\"215.0\"/><rect fill=\"rgb(57,72,51)\" height=\"20\" width=\"20\" x=\"522\" y=\"259.0\"/><rect fill=\"rgb(200,211,243)\" height=\"20\" width=\"20\" x=\"520\" y=\"257.0\"/><rect fill=\"rgb(57,72,51)\" height=\"20\" width=\"20\" x=\"522\" y=\"301.0\"/><rect fill=\"rgb(163,172,198)\" height=\"20\" width=\"20\" x=\"520\" y=\"299.0\"/><rect fill=\"rgb(57,72,51)\" height=\"20\" width=\"20\" x=\"522\" y=\"343.0\"/><rect fill=\"rgb(96,102,117)\" height=\"20\" width=\"20\" x=\"520\" y=\"341.0\"/><rect fill=\"rgb(57,72,51)\" height=\"20\" width=\"20\" x=\"522\" y=\"385.0\"/><rect fill=\"rgb(72,76,87)\" height=\"20\" width=\"20\" x=\"520\" y=\"383.0\"/><rect fill=\"rgb(57,72,51)\" height=\"20\" width=\"20\" x=\"522\" y=\"427.0\"/><rect fill=\"rgb(131,138,159)\" height=\"20\" width=\"20\" x=\"520\" y=\"425.0\"/><rect fill=\"rgb(57,72,51)\" height=\"20\" width=\"20\" x=\"522\" y=\"469.0\"/><rect fill=\"rgb(26,28,32)\" height=\"20\" width=\"20\" x=\"520\" y=\"467.0\"/><rect fill=\"rgb(57,72,51)\" height=\"20\" width=\"20\" x=\"610\" y=\"51.0\"/><rect fill=\"rgb(53,56,64)\" height=\"20\" width=\"20\" x=\"608\" y=\"49.0\"/><rect fill=\"rgb(57,72,51)\" height=\"20\" width=\"20\" x=\"610\" y=\"93.0\"/><rect fill=\"rgb(156,165,190)\" height=\"20\" width=\"20\" x=\"608\" y=\"91.0\"/><rect fill=\"rgb(57,72,51)\" height=\"20\" width=\"20\" x=\"610\" y=\"135.0\"/><rect fill=\"rgb(6,6,7)\" height=\"20\" width=\"20\" x=\"608\" y=\"133.0\"/><rect fill=\"rgb(57,72,51)\" height=\"20\" width=\"20\" x=\"610\" y=\"177.0\"/><rect fill=\"rgb(197,208,239)\" height=\"20\" width=\"20\" x=\"608\" y=\"175.0\"/><rect fill=\"rgb(57,72,51)\" height=\"20\" width=\"20\" x=\"610\" y=\"219.0\"/><rect fill=\"rgb(99,105,120)\" height=\"20\" width=\"20\" x=\"608\" y=\"217.0\"/><rect fill=\"rgb(57,72,51)\" height=\"20\" width=\"20\" x=\"610\" y=\"261.0\"/><rect fill=\"rgb(118,125,144)\" height=\"20\" width=\"20\" x=\"608\" y=\"259.0\"/><rect fill=\"rgb(57,72,51)\" height=\"20\" width=\"20\" x=\"610\" y=\"303.0\"/><rect fill=\"rgb(92,97,111)\" height=\"20\" width=\"20\" x=\"608\" y=\"301.0\"/><rect fill=\"rgb(57,72,51)\" height=\"20\" width=\"20\" x=\"610\" y=\"345.0\"/><rect fill=\"rgb(209,221,254)\" height=\"20\" width=\"20\" x=\"608\" y=\"343.0\"/><rect fill=\"rgb(57,72,51)\" height=\"20\" width=\"20\" x=\"610\" y=\"387.0\"/><rect fill=\"rgb(106,113,129)\" height=\"20\" width=\"20\" x=\"608\" y=\"385.0\"/><rect fill=\"rgb(57,72,51)\" height=\"20\" width=\"20\" x=\"610\" y=\"429.0\"/><rect fill=\"rgb(170,180,207)\" height=\"20\" width=\"20\" x=\"608\" y=\"427.0\"/><rect fill=\"rgb(57,72,51)\" height=\"20\" width=\"20\" x=\"610\" y=\"471.0\"/><rect fill=\"rgb(194,205,236)\" height=\"20\" width=\"20\" x=\"608\" y=\"469.0\"/><rect fill=\"rgb(57,72,51)\" height=\"20\" width=\"20\" x=\"610\" y=\"513.0\"/><rect fill=\"rgb(196,207,238)\" height=\"20\" width=\"20\" x=\"608\" y=\"511.0\"/><rect fill=\"rgb(57,72,51)\" height=\"20\" width=\"20\" x=\"698\" y=\"330.0\"/><rect fill=\"rgb(102,108,124)\" height=\"20\" width=\"20\" x=\"696\" y=\"328.0\"/><rect fill=\"rgb(57,72,51)\" height=\"20\" width=\"20\" x=\"698\" y=\"372.0\"/><rect fill=\"rgb(85,90,103)\" height=\"20\" width=\"20\" x=\"696\" y=\"370.0\"/><rect fill=\"rgb(57,72,51)\" height=\"20\" width=\"20\" x=\"698\" y=\"414.0\"/><rect fill=\"rgb(151,160,184)\" height=\"20\" width=\"20\" x=\"696\" y=\"412.0\"/></svg>"
      ],
      "text/plain": [
       "<IPython.core.display.SVG object>"
      ]
     },
     "metadata": {},
     "output_type": "display_data"
    }
   ],
   "source": [
    "\n",
    "draw_background(color=rgb(128*0.9, 160*0.9, 128*0.8))\n",
    "\n",
    "for (layer_i, layer) in enumerate(LAYERS):\n",
    "    for (neuron_i, weight) in enumerate(layer['weights']):\n",
    "        if layer_i < len(LAYERS) - 1:\n",
    "            next_layer_size: int = LAYER_SIZES[layer_i + 1]\n",
    "            for j in range(next_layer_size):\n",
    "                off_x = NEURON_SIZE[0] / 2\n",
    "                off_y = NEURON_SIZE[1] / 2\n",
    "                x_0 = neuron_x(layer_i) + off_x\n",
    "                y_0 = neuron_y(layer_i, neuron_i) + off_y\n",
    "                x_1 = neuron_x(layer_i + 1) + off_x\n",
    "                y_1 = neuron_y(layer_i + 1, j) + off_y\n",
    "                \n",
    "                def input_of(layer_i: int, neuron_i: int) -> float:\n",
    "                    # XXX Does not take into account all inputs\n",
    "                    return INPUTS[neuron_i % len(INPUTS)]\n",
    "\n",
    "                draw_connection(\n",
    "                    p1=(x_0, y_0),\n",
    "                    p2=(x_1, y_1),\n",
    "                    color=connection_color(\n",
    "                        value=relu(\n",
    "                            x=input_of(layer_i, neuron_i),\n",
    "                            bias=layer['biases'][neuron_i],\n",
    "                            weight=weight,\n",
    "                        )\n",
    "                    ),\n",
    "                )\n",
    "\n",
    "for (layer_i, layer) in enumerate(LAYERS):\n",
    "    for (neuron_i, weight) in enumerate(layer['weights']):\n",
    "        draw_neuron(\n",
    "            x=neuron_x(layer_i),\n",
    "            y=neuron_y(layer_i, neuron_i),\n",
    "            color=neuron_color(weight)\n",
    "        )\n",
    "\n",
    "present()"
   ]
  },
  {
   "cell_type": "code",
   "execution_count": 68,
   "metadata": {},
   "outputs": [
    {
     "data": {
      "text/plain": [
       "[0, 1, 2, 3, 4, 5, 6, 7, 8, 9]"
      ]
     },
     "execution_count": 68,
     "metadata": {},
     "output_type": "execute_result"
    }
   ],
   "source": [
    "[x for x in range(10)]"
   ]
  },
  {
   "cell_type": "code",
   "execution_count": null,
   "metadata": {},
   "outputs": [],
   "source": []
  },
  {
   "cell_type": "markdown",
   "metadata": {},
   "source": [
    "# [cat-theory]\n",
    "\n",
    "## Упражнение 3.5\n",
    "\n",
    "> Проверьте, что функторы переводят изоморфизмы в изоморфизмы и обратные стрелки в обратные.\n",
    "\n",
    "**Определение 3.5.1.** Функтор $F$ из категории $\\mathrm{K}_1$ в категорию $\\mathrm{K}_2$ – это пара отображений (обозначаемых одной буквой):\n",
    "\n",
    "$$ F: \\mathrm{Ob}(\\mathrm{K}_1) \\rightarrow \\mathrm{Ob}(\\mathrm{K}_2)\n",
    "\\\\ F: \\mathrm{Mor}(\\mathrm{K}_1) \\rightarrow \\mathrm{Mor}(\\mathrm{K}_2)\n",
    "$$\n",
    "\n",
    "При этом $\\mathrm{Ob}(\\mathrm{K})$ — это совокупность *объектов* категории $\\mathrm{K}$, а $\\mathrm{Mor}(\\mathrm{K})$ — совокупность *морфизмов* (так же называются *стрелками*).\n",
    "\n",
    "Применение функтора сохраняет $dom$, $cod$, $id$ и композицию. Таким образом для любых $f, g, A, B, C$ из $\\mathrm{K}_1$ выполняется:\n",
    "\n",
    "1. $f: A \\rightarrow B$ влечёт $F(f): F(A) \\rightarrow F(B)$\n",
    "   - `TODO` показать\n",
    "2. $F(id_A) = id_{F(A)}$\n",
    "   - действительно, применяя 1 к 2 получаем: $F(A \\xrightarrow{id_A} A) = F(A) \\xrightarrow{F(id_A)} F(A) = id_{F(A)}$\n",
    "3. $A \\xrightarrow{f} B$ и $B \\xrightarrow{g} C$ влечёт $F(g \\circ f) = F(g) \\circ F(f)$\n",
    "   - `TODO` показать\n",
    "\n",
    "**Определение 3.5.2.** Стрелка $f: A \\rightarrow B$ называется *изоморфизмом*, если существует *обратная стрелка* $f^{-1}: B \\rightarrow A$ со свойствами:\n",
    "\n",
    "$$ f^{-1} \\circ f = id_A\n",
    "\\\\ f \\circ f^{-1} = id_B\n",
    "$$\n",
    "\n",
    "При этом $id_A: A \\rightarrow A$ и $id_B: B \\rightarrow B$ — *единичные морфизмы*, отображающие объекты в такие же объекты.\n",
    "\n",
    "**Проверка.** Пусть:\n",
    "\n",
    "- $f_1: A_1 \\rightarrow B_1$ — некий изоморфизм в категории $\\mathrm{K}_1$\n",
    "- $g^{-1}_1: D_1 \\rightarrow C_1 $ — некая обратная стрелка в категории $\\mathrm{K}_1$\n",
    "- функтор $F$ переводит $f_1$ в $f_2$ из категории $\\mathrm{K}_2$\n",
    "- функтор $F$ переводит $g^{-1}_1$ в $g^{-1}_2$ из категории $\\mathrm{K}_2$\n",
    "\n",
    "Нам нужно показать, что:\n",
    "\n",
    "1. $f_2 = F(f_1)$ тоже является изоморфиозмом\n",
    "2. $g^{-1}_2 = F(g_1^{-1})$ является обратной стрелкой\n",
    "\n",
    "**Интуиция.** Показав, как обратные стрелки переводятся в обратные, а \"прямые\" в \"прямые\", мы сможем показать, как соотносятся преобразованные стрелки в категории $\\mathrm{K}_2$. \"Прямыми\" я называю стрелки, обратные к обратным.\n",
    "\n",
    "Применим функтор $F$ к $g^{-1}_1$:\n",
    "\n",
    "$$ g_2^{-1} = F(g_1^{-1}) = F(D_1 \\xrightarrow{g_1^{-1}} C_1) = F(D_1) \\xrightarrow{F(g_1^{-1})} F(C_1) =\n",
    "\\\\ = F(D_1) \\xrightarrow{g^{-1}_2} F(C_1)\n",
    "$$\n",
    "\n",
    "Также применим функтор $F$ к \"прямой\" стрелке $g_1$\n",
    "\n",
    "$$ g_2 = F(g_1) = F(С_1 \\xrightarrow{g_1} D_1) = F(С_1) \\xrightarrow{F(g_1)} F(D_1) =\n",
    "\\\\ = F(С_1) \\xrightarrow{g_2} F(D_1)\n",
    "$$\n",
    "\n",
    "Теперь, применяя определение 3.5.2, а также разворачивая операцию композиции покажем, что $g_2^{-1}$ действительно является обратным к $g_2$, что докажет справедливость 2:\n",
    "\n",
    "$$ g_2^{-1} \\circ g_2 = F(D_1) \\xrightarrow{g^{-1}_2} F(C_1) \\circ F(С_1) \\xrightarrow{g_2} F(D_1) =\n",
    "\\\\ = F(D_1) \\xrightarrow{g^{-1}_2} F(C_1) \\xrightarrow{g_2} F(D_1) =\n",
    "\\\\ = F(D_1) \\xrightarrow{g^{-1}_2 \\circ g_2} F(D_1) =\n",
    "\\\\ = id_{F(D_1)}\n",
    "$$\n",
    "\n",
    "> Можно даже записывать:\n",
    ">\n",
    "> $$F(g_2^{-1}) = F^{-1}(g_2),$$\n",
    ">\n",
    "> но только если $F^{-1}$ существует, т.е. функтор $F$ является обратимым.\n",
    "\n",
    "Теперь применим $F$ к $f_1$ и $f^{-1}_1$:\n",
    "\n",
    "$$ F(f_1) = F(A_1 \\xrightarrow{f_1} B_1) = F(A_1) \\xrightarrow{f_2} F(B_1)\n",
    "\\\\ F(f_1^{-1}) = F(B_1 \\xrightarrow{f_1^{-1}} A_1) = F(B_1) \\xrightarrow{f_2^{-1}} F(A_1)\n",
    "$$\n",
    "\n",
    "Покажем, что $f_2$ является изоморфизмом:\n",
    "\n",
    "$$ f_2^{-1} \\circ f_2 = F(B_1) \\xrightarrow{f^{-1}_2} F(A_1) \\circ F(A_1) \\xrightarrow{f_2} F(B_1) =\n",
    "\\\\ = F(B_1) \\xrightarrow{f^{-1}_2} F(A_1) \\xrightarrow{f_2} F(B_1) =\n",
    "\\\\ = F(B_1) \\xrightarrow{f^{-1}_2 \\circ f_2} F(B_1) =\n",
    "\\\\ = id_{F(B_1)}\n",
    "$$\n",
    "\n",
    "$$ f_2 \\circ f_2^{-1} = F(A_1) \\xrightarrow{f_2} F(B_1) \\circ F(B_1) \\xrightarrow{f^{-1}_2} F(A_1) =\n",
    "\\\\ = F(A_1) \\xrightarrow{f_2} F(B_1) \\xrightarrow{f^{-1}_2} F(A_1) =\n",
    "\\\\ = F(A_1) \\xrightarrow{f_2 \\circ f^{-1}_2} F(A_1) =\n",
    "\\\\ = id_{F(A_1)}\n",
    "$$\n",
    "\n",
    "Таким образом, изоморфизмы преобразуются в изоморфизмы, а отношение обратности двух морфизмов сохраняется при применении к ним функтора.\n",
    "\n",
    "Отметим, что эти выводы следуют напрямую из определения изоморфизма."
   ]
  },
  {
   "cell_type": "code",
   "execution_count": null,
   "metadata": {},
   "outputs": [],
   "source": []
  }
 ],
 "metadata": {
  "kernelspec": {
   "display_name": "Python 3 (ipykernel)",
   "language": "python",
   "name": "python3"
  },
  "language_info": {
   "codemirror_mode": {
    "name": "ipython",
    "version": 3
   },
   "file_extension": ".py",
   "mimetype": "text/x-python",
   "name": "python",
   "nbconvert_exporter": "python",
   "pygments_lexer": "ipython3",
   "version": "3.12.4"
  }
 },
 "nbformat": 4,
 "nbformat_minor": 4
}
