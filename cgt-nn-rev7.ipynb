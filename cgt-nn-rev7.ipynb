{
 "cells": [
  {
   "cell_type": "markdown",
   "id": "3601460f",
   "metadata": {},
   "source": [
    "# Методы исследования характеристических свойств нейронных сетей с применением теоретико-игрового подхода\n",
    "\n",
    "- **Теория**: И.В.Томилов ivan-tomilov3@yandex.ru\n",
    "- **Реализация**: М.А.Зайцева maria@tail-call.ru\n",
    "- **Поддержка CUDA**: А.Е.Григорьева admin@linkennt.ru\n",
    "- **Ревизия**: 7\n",
    "\n",
    "- **Другие ревизии**: [ссылка](https://disk.yandex.ru/d/aZozDpBlzh_z1A)\n",
    "<!-- please do not append text into this block -->"
   ]
  },
  {
   "cell_type": "markdown",
   "id": "3e53163b",
   "metadata": {},
   "source": [
    "## 0. Изменения\n",
    "\n",
    "* Ещё больше кода перенесено в библиотеку\n",
    "* Добавлены датасеты: allhyper, eye_movements, wine_quality, Hill_Valley_with_noise, Hill_Valley_without_noise"
   ]
  },
  {
   "cell_type": "markdown",
   "id": "39a4bc90",
   "metadata": {},
   "source": [
    "## 1. Настройки"
   ]
  },
  {
   "cell_type": "code",
   "execution_count": null,
   "id": "30fabc90",
   "metadata": {
    "scrolled": true,
    "vscode": {
     "languageId": "shellscript"
    }
   },
   "outputs": [],
   "source": [
    "## 1.1 Install dependencies\n",
    "\n",
    "# pip install -r requirements.txt"
   ]
  },
  {
   "cell_type": "code",
   "execution_count": 1,
   "id": "bedf16ba",
   "metadata": {},
   "outputs": [
    {
     "name": "stdout",
     "output_type": "stream",
     "text": [
      "TORCH_DEVICE is cpu\n",
      "Report found at report/report.json. Loading...\n",
      "Report loaded.\n"
     ]
    },
    {
     "data": {
      "text/plain": [
       "([0.0, 0.01, 0.05, 0.5, 0.9],\n",
       " [Dataset(number=4, name='allhyper', learning_task=LearningTask(name='regression', criterion=MSELoss(), dtype=torch.float32), classes_count=1, data_maker=<function all_hyper at 0x153d7a980>, _data=None),\n",
       "  Dataset(number=5, name='eye_movements', learning_task=LearningTask(name='classification', criterion=CrossEntropyLoss(), dtype=torch.int64), classes_count=2, data_maker=<function eye_movements at 0x153d7aa20>, _data=None),\n",
       "  Dataset(number=6, name='wine_quality', learning_task=LearningTask(name='regression', criterion=MSELoss(), dtype=torch.float32), classes_count=1, data_maker=<function wine_quality at 0x153d7aac0>, _data=None),\n",
       "  Dataset(number=7, name='Hill_Valley_with_noise', learning_task=LearningTask(name='classification', criterion=CrossEntropyLoss(), dtype=torch.int64), classes_count=2, data_maker=<function hill_valley_with_noise at 0x153d7ab60>, _data=None),\n",
       "  Dataset(number=8, name='Hill_Valley_without_noise', learning_task=LearningTask(name='classification', criterion=CrossEntropyLoss(), dtype=torch.int64), classes_count=2, data_maker=<function hill_valley_without_noise at 0x153d7ac00>, _data=None)])"
      ]
     },
     "execution_count": 1,
     "metadata": {},
     "output_type": "execute_result"
    }
   ],
   "source": [
    "## 1.2 Setup\n",
    "\n",
    "import cgtnnlib.common as common\n",
    "from cgtnnlib.datasets import datasets\n",
    "\n",
    "PP = [0.0, 0.01, 0.05, 0.5, 0.9]\n",
    "DATASETS = [dataset for dataset in datasets if dataset.number in [4, 5, 6, 7, 8]]\n",
    "\n",
    "(PP, DATASETS)"
   ]
  },
  {
   "cell_type": "markdown",
   "id": "582f0286",
   "metadata": {},
   "source": [
    "## 2. Обучение"
   ]
  },
  {
   "cell_type": "code",
   "execution_count": 4,
   "id": "28c4d097",
   "metadata": {},
   "outputs": [
    {
     "name": "stdout",
     "output_type": "stream",
     "text": [
      "N=9 #8 p=0.9 E20/20 S81 Loss=0.0484 @AugmentedReLUNetwork\n",
      "train_model_outer(): saved model to pth/model-8B-c-P0.9_N9.pth\n",
      "Report saved to report/report.json.\n",
      "Done!\n"
     ]
    }
   ],
   "source": [
    "\n",
    "# 2.1. Training\n",
    "\n",
    "\n",
    "common.train_main(PP, DATASETS)\n",
    "common.report.save()\n",
    "\n",
    "print(\"Done!\")"
   ]
  },
  {
   "cell_type": "markdown",
   "id": "989ea9a9",
   "metadata": {},
   "source": [
    "## 3. Валидация "
   ]
  },
  {
   "cell_type": "code",
   "execution_count": 3,
   "id": "f42862da",
   "metadata": {},
   "outputs": [
    {
     "name": "stdout",
     "output_type": "stream",
     "text": [
      "Evaluating model at pth/model-8B-c-P0.9_N9.pth...\n",
      "Evaluation of classification (head):\n",
      "   noise_factor  accuracy        f1   roc_auc\n",
      "0          0.00  0.497942  0.376056  0.475782\n",
      "1          0.04  0.506173  0.391724  0.475240\n",
      "2          0.08  0.506173  0.380643  0.475071\n",
      "3          0.12  0.510288  0.394121  0.474224\n",
      "4          0.16  0.502058  0.378352  0.476629\n",
      "Report saved to report/report.json.\n",
      "Done!\n"
     ]
    }
   ],
   "source": [
    "\n",
    "# 6.2. Evaluation\n",
    "\n",
    "common.evaluate_main(PP, DATASETS)\n",
    "common.report.save()\n",
    "\n",
    "print(\"Done!\")"
   ]
  },
  {
   "cell_type": "markdown",
   "id": "6c613fb6",
   "metadata": {},
   "source": [
    "## 7. Анализ данных"
   ]
  },
  {
   "cell_type": "code",
   "execution_count": null,
   "id": "a60f12cb",
   "metadata": {},
   "outputs": [
    {
     "name": "stdout",
     "output_type": "stream",
     "text": [
      "TORCH_DEVICE is cpu\n",
      "Report found at report/report.json. Loading...\n",
      "Report loaded.\n"
     ]
    }
   ],
   "source": [
    "from cgtnnlib.analyze import analyze_main\n",
    "\n",
    "analyze_main(report_path='./report/report.json', pp=PP, datasets=DATASETS)"
   ]
  }
 ],
 "metadata": {
  "jupytext": {
   "cell_metadata_filter": "-all",
   "encoding": "# coding: utf-8",
   "executable": "/usr/bin/env python",
   "main_language": "python",
   "notebook_metadata_filter": "-all"
  },
  "kernelspec": {
   "display_name": "3.12.3",
   "language": "python",
   "name": "python3"
  },
  "language_info": {
   "codemirror_mode": {
    "name": "ipython",
    "version": 3
   },
   "file_extension": ".py",
   "mimetype": "text/x-python",
   "name": "python",
   "nbconvert_exporter": "python",
   "pygments_lexer": "ipython3",
   "version": "3.12.3"
  }
 },
 "nbformat": 4,
 "nbformat_minor": 5
}
