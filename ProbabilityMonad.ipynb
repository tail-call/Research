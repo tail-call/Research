{
 "cells": [
  {
   "cell_type": "markdown",
   "id": "149bec95",
   "metadata": {},
   "source": [
    "# Probability Monad\n",
    "\n",
    "Probability Monad in the context of discrete probability distributions\n",
    "is a way to model computations that yield a distribution over possible\n",
    "results, rather than a single result.\n",
    "\n",
    "It follows the three Monadic Laws:\n",
    "\n",
    "**1. Left Identity**\n",
    "\n",
    "```python\n",
    "pure(x).bind(f) == f(x)\n",
    "```\n",
    "\n",
    "**2. Right Identity**\n",
    "\n",
    "```python\n",
    "m.bind(pure) == m\n",
    "```\n",
    "\n",
    "**3. Associativity**\n",
    "\n",
    "```python\n",
    "m.bind(f).bind(g) == m.bind(lambda x: f(x).bind(g))\n",
    "```"
   ]
  },
  {
   "cell_type": "code",
   "execution_count": 1,
   "id": "f668db87",
   "metadata": {},
   "outputs": [],
   "source": [
    "import collections\n",
    "import random\n",
    "import math\n",
    "from typing import TypeVar, Callable, Dict, Union, Tuple, Iterator\n",
    "\n",
    "A = TypeVar('A')\n",
    "B = TypeVar('B')\n",
    "\n",
    "class ProbabilityMonad:\n",
    "    \"\"\"\n",
    "    A Monad for discrete probability distributions.\n",
    "\n",
    "    Represents a probability distribution as a mapping from possible outcomes\n",
    "    to their probabilities.\n",
    "\n",
    "    The probabilities for all outcomes must sum to 1.0 (or very close to it\n",
    "    due to floating point arithmetic).\n",
    "    \"\"\"\n",
    "\n",
    "    # A small epsilon for floating point comparisons\n",
    "    _EPSILON = 1e-9\n",
    "\n",
    "    def __init__(self, distribution: Dict[A, float]):\n",
    "        \"\"\"\n",
    "        Initializes a ProbabilityMonad with a given distribution.\n",
    "\n",
    "        Args:\n",
    "            distribution (Dict[A, float]): A dictionary where keys are outcomes\n",
    "                                            and values are their probabilities.\n",
    "                                            Probabilities must be non-negative.\n",
    "        Raises:\n",
    "            ValueError: If probabilities sum to significantly different from 1.0\n",
    "                        or if any probability is negative.\n",
    "        \"\"\"\n",
    "        if not isinstance(distribution, dict):\n",
    "            raise TypeError(\"Distribution must be a dictionary.\")\n",
    "\n",
    "        normalized_dist = {}\n",
    "        for outcome, prob in distribution.items():\n",
    "            if not isinstance(prob, (int, float)):\n",
    "                raise TypeError(f\"Probability for outcome '{outcome}' is not a number: {prob}\")\n",
    "            if prob < -self._EPSILON:\n",
    "                # Allow for tiny negative due to fp errors\n",
    "                raise ValueError(f\"Probability for outcome '{outcome}' cannot be negative: {prob}\")\n",
    "            if prob > self._EPSILON:\n",
    "                # Only include non-zero probabilities\n",
    "                normalized_dist[outcome] = float(prob)\n",
    "\n",
    "        total_prob = sum(normalized_dist.values())\n",
    "\n",
    "        if not math.isclose(total_prob, 1.0, rel_tol=self._EPSILON, abs_tol=self._EPSILON):\n",
    "            if total_prob < self._EPSILON:\n",
    "                # Handle empty or all-zero distributions\n",
    "                self._distribution = {}\n",
    "            else:\n",
    "                # Attempt to normalize if it's close but not exact\n",
    "                # This can happen if the input isn't perfectly normalized\n",
    "                print(f\"Warning: Probabilities sum to {total_prob}. Attempting to normalize.\")\n",
    "                self._distribution = {k: v / total_prob for k, v in normalized_dist.items()}\n",
    "                if not math.isclose(sum(self._distribution.values()), 1.0, rel_tol=self._EPSILON, abs_tol=self._EPSILON):\n",
    "                     raise ValueError(f\"Probabilities must sum to 1.0. Got {total_prob} and normalization failed.\")\n",
    "        else:\n",
    "            self._distribution = normalized_dist\n",
    "\n",
    "        # Filter out extremely small probabilities for cleaner representation and computation\n",
    "        self._distribution = {\n",
    "            k: v for k, v in self._distribution.items() if v > self._EPSILON\n",
    "        }\n",
    "\n",
    "        # Re-normalize if filtering changed sum slightly\n",
    "        current_sum = sum(self._distribution.values())\n",
    "        if not math.isclose(current_sum, 1.0, rel_tol=self._EPSILON, abs_tol=self._EPSILON):\n",
    "            if current_sum > self._EPSILON: # Avoid division by zero\n",
    "                self._distribution = {k: v / current_sum for k, v in self._distribution.items()}\n",
    "\n",
    "\n",
    "    @classmethod\n",
    "    def pure(cls, value: A) -> 'ProbabilityMonad[A]':\n",
    "        \"\"\"\n",
    "        The 'pure' or 'unit' function.\n",
    "        Creates a ProbabilityMonad representing a certain outcome.\n",
    "\n",
    "        Args:\n",
    "            value (A): The certain outcome.\n",
    "\n",
    "        Returns:\n",
    "            ProbabilityMonad[A]: A monad where `value` has probability 1.0.\n",
    "        \"\"\"\n",
    "        return cls({value: 1.0})\n",
    "\n",
    "    @classmethod\n",
    "    def from_weighted_choices(cls, choices: Dict[A, Union[int, float]]) -> 'ProbabilityMonad[A]':\n",
    "        \"\"\"\n",
    "        Creates a ProbabilityMonad from a dictionary of choices with raw weights.\n",
    "        The weights will be normalized to probabilities.\n",
    "\n",
    "        Args:\n",
    "            choices (Dict[A, Union[int, float]]): A dictionary mapping outcomes\n",
    "                                                  to their relative weights.\n",
    "\n",
    "        Returns:\n",
    "            ProbabilityMonad[A]: A monad representing the normalized distribution.\n",
    "        \"\"\"\n",
    "        total_weight = sum(choices.values())\n",
    "        if total_weight == 0:\n",
    "            raise ValueError(\"Total weight must be greater than zero.\")\n",
    "        normalized_dist = {outcome: weight / total_weight for outcome, weight in choices.items()}\n",
    "        return cls(normalized_dist)\n",
    "\n",
    "    def bind(self, func: Callable[[A], 'ProbabilityMonad[B]']) -> 'ProbabilityMonad[B]':\n",
    "        \"\"\"\n",
    "        The 'bind' operation (`>>=`).\n",
    "        Applies a function that returns another ProbabilityMonad to each outcome\n",
    "        of the current monad, effectively flattening the nested distributions.\n",
    "\n",
    "        Args:\n",
    "            func (Callable[[A], ProbabilityMonad[B]]): A function that takes an\n",
    "                                                        outcome from the current\n",
    "                                                        distribution and returns\n",
    "                                                        a new ProbabilityMonad.\n",
    "\n",
    "        Returns:\n",
    "            ProbabilityMonad[B]: A new monad representing the combined, flattened\n",
    "                                 distribution.\n",
    "        \"\"\"\n",
    "        new_distribution = collections.defaultdict(float)\n",
    "        for outer_outcome, outer_prob in self._distribution.items():\n",
    "            if outer_prob == 0:\n",
    "                continue\n",
    "\n",
    "            inner_monad = func(outer_outcome)\n",
    "            if not isinstance(inner_monad, ProbabilityMonad):\n",
    "                raise TypeError(f\"The function passed to bind must return a ProbabilityMonad, but got {type(inner_monad)}\")\n",
    "\n",
    "            for inner_outcome, inner_prob in inner_monad.distribution.items():\n",
    "                new_distribution[inner_outcome] += outer_prob * inner_prob\n",
    "\n",
    "        return ProbabilityMonad(dict(new_distribution)) # Convert defaultdict back to dict\n",
    "\n",
    "    def map_f(self, func: Callable[[A], B]) -> 'ProbabilityMonad[B]':\n",
    "        \"\"\"\n",
    "        The 'fmap' operation.\n",
    "        Applies a function to each outcome of the current monad, without changing\n",
    "        the underlying probabilities.\n",
    "\n",
    "        Args:\n",
    "            func (Callable[[A], B]): A function to apply to each outcome.\n",
    "\n",
    "        Returns:\n",
    "            ProbabilityMonad[B]: A new monad with transformed outcomes.\n",
    "        \"\"\"\n",
    "        # fmap is just a special case of bind: m >>= (lambda x: pure(f x))\n",
    "        return self.bind(lambda x: ProbabilityMonad.pure(func(x)))\n",
    "\n",
    "    @property\n",
    "    def distribution(self) -> Dict[A, float]:\n",
    "        \"\"\"Returns the underlying probability distribution.\"\"\"\n",
    "        return self._distribution.copy()\n",
    "\n",
    "    def expected_value(self) -> float:\n",
    "        \"\"\"\n",
    "        Calculates the expected value of the distribution.\n",
    "        This only makes sense if the outcomes are numerical.\n",
    "        \"\"\"\n",
    "        if not self._distribution:\n",
    "            return 0.0\n",
    "\n",
    "        if not all(isinstance(k, (int, float)) for k in self._distribution.keys()):\n",
    "            raise TypeError(\"Cannot calculate expected value: not all outcomes are numerical.\")\n",
    "\n",
    "        return sum(outcome * prob for outcome, prob in self._distribution.items())\n",
    "\n",
    "    def sample(self, n: int = 1) -> Union[A, Tuple[A, ...]]:\n",
    "        \"\"\"\n",
    "        Draws `n` random samples from the distribution.\n",
    "\n",
    "        Args:\n",
    "            n (int): The number of samples to draw. Defaults to 1.\n",
    "\n",
    "        Returns:\n",
    "            Union[A, Tuple[A, ...]]: A single sample if n=1, otherwise a tuple of samples.\n",
    "        \"\"\"\n",
    "        if not self._distribution:\n",
    "            if n == 1:\n",
    "                return None\n",
    "            return tuple([None] * n) # Return None for empty distribution\n",
    "\n",
    "        outcomes = list(self._distribution.keys())\n",
    "        probabilities = list(self._distribution.values())\n",
    "\n",
    "        # random.choices requires lists of population and weights\n",
    "        if not outcomes: # Empty distribution (e.g., after filtering extremely small probs)\n",
    "             if n == 1: return None\n",
    "             return tuple([None]*n)\n",
    "\n",
    "\n",
    "        samples = random.choices(outcomes, weights=probabilities, k=n)\n",
    "\n",
    "        if n == 1:\n",
    "            return samples[0]\n",
    "        return tuple(samples)\n",
    "\n",
    "    def __repr__(self) -> str:\n",
    "        return f\"ProbabilityMonad({self._distribution})\"\n",
    "\n",
    "    def __str__(self) -> str:\n",
    "        if not self._distribution:\n",
    "            return \"ProbabilityMonad(Empty Distribution)\"\n",
    "        \n",
    "        # Sort for consistent output\n",
    "        sorted_dist = sorted(self._distribution.items(), key=lambda item: item[1], reverse=True)\n",
    "        \n",
    "        s = \"Probability Distribution:\\n\"\n",
    "        for outcome, prob in sorted_dist:\n",
    "            s += f\"  {repr(outcome)}: {prob:.6f}\\n\"\n",
    "        return s\n",
    "    \n",
    "    # Optional: Operator overloading for syntactic sugar\n",
    "    def __rshift__(self, func: Callable[[A], 'ProbabilityMonad[B]']) -> 'ProbabilityMonad[B]':\n",
    "        \"\"\"\n",
    "        Overloads the '>>' operator for bind (monadic sequencing).\n",
    "        This is a common convention for bind-like operations in Python.\n",
    "        `m >> f` is equivalent to `m.bind(f)`\n",
    "        \"\"\"\n",
    "        return self.bind(func)\n",
    "\n",
    "    def __or__(self, func: Callable[[A], B]) -> 'ProbabilityMonad[B]':\n",
    "        \"\"\"\n",
    "        Overloads the '|' operator for fmap (functorial mapping).\n",
    "        `m | f` is equivalent to `m.map_f(f)`\n",
    "        \"\"\"\n",
    "        return self.map_f(func)\n",
    "\n",
    "    def __eq__(self, other: object) -> bool:\n",
    "        if not isinstance(other, ProbabilityMonad):\n",
    "            return NotImplemented\n",
    "        # Compare distributions, accounting for float precision\n",
    "        if len(self._distribution) != len(other._distribution):\n",
    "            return False\n",
    "        \n",
    "        for k, v in self._distribution.items():\n",
    "            if k not in other._distribution or not math.isclose(v, other._distribution[k], rel_tol=self._EPSILON, abs_tol=self._EPSILON):\n",
    "                return False\n",
    "        return True\n",
    "\n",
    "    def __iter__(self) -> Iterator[Tuple[A, float]]:\n",
    "        \"\"\"Allows iteration over (outcome, probability) pairs.\"\"\"\n",
    "        return iter(self._distribution.items())"
   ]
  },
  {
   "cell_type": "code",
   "execution_count": 2,
   "id": "071ee870",
   "metadata": {},
   "outputs": [
    {
     "data": {
      "text/plain": [
       "ProbabilityMonad({'twilight': 0.8, 'pinkie': 0.2})"
      ]
     },
     "execution_count": 2,
     "metadata": {},
     "output_type": "execute_result"
    }
   ],
   "source": [
    "pm = ProbabilityMonad({\"twilight\": 0.8, \"pinkie\": 0.2})\n",
    "pm"
   ]
  },
  {
   "cell_type": "markdown",
   "id": "fdb4a9b9",
   "metadata": {},
   "source": [
    "## Examples\n",
    "\n",
    "### Example 1: Fair Coin Flip"
   ]
  },
  {
   "cell_type": "code",
   "execution_count": 3,
   "id": "7506a344",
   "metadata": {},
   "outputs": [
    {
     "name": "stdout",
     "output_type": "stream",
     "text": [
      "1. Fair Coin:\n",
      "Probability Distribution:\n",
      "  'Heads': 0.500000\n",
      "  'Tails': 0.500000\n",
      "\n",
      "Sample coin (1): Heads\n",
      "Sample coin (5): ('Heads', 'Tails', 'Heads', 'Tails', 'Heads')\n",
      "\n"
     ]
    }
   ],
   "source": [
    "coin = ProbabilityMonad.from_weighted_choices({\"Heads\": 1, \"Tails\": 1})\n",
    "\n",
    "print(\"1. Fair Coin:\")\n",
    "print(coin)\n",
    "\n",
    "print(f\"Sample coin (1): {coin.sample()}\")\n",
    "print(f\"Sample coin (5): {coin.sample(5)}\\n\")"
   ]
  },
  {
   "cell_type": "markdown",
   "id": "acc13e2d",
   "metadata": {},
   "source": [
    "### Example 2: Loaded Die"
   ]
  },
  {
   "cell_type": "code",
   "execution_count": null,
   "id": "09664c51",
   "metadata": {},
   "outputs": [
    {
     "name": "stdout",
     "output_type": "stream",
     "text": [
      "2. Loaded Die:\n",
      "Probability Distribution:\n",
      "  6: 0.285714\n",
      "  1: 0.142857\n",
      "  2: 0.142857\n",
      "  3: 0.142857\n",
      "  4: 0.142857\n",
      "  5: 0.142857\n",
      "\n",
      "Expected value of loaded die: 3.857\n",
      "Sample loaded die (3): (6, 5, 6)\n",
      "\n"
     ]
    }
   ],
   "source": [
    "loaded_die = ProbabilityMonad.from_weighted_choices({\n",
    "    1: 1, 2: 1, 3: 1, 4: 1, 5: 1,\n",
    "    6: 2 # is loaded!!\n",
    "})\n",
    "\n",
    "print(\"2. Loaded Die:\")\n",
    "print(loaded_die)\n",
    "print(f\"Expected value of loaded die: {loaded_die.expected_value():.3f}\")\n",
    "print(f\"Sample loaded die (3): {loaded_die.sample(3)}\\n\")"
   ]
  },
  {
   "cell_type": "markdown",
   "id": "f4f226bf",
   "metadata": {},
   "source": [
    "### Example 3: Certain Outcome"
   ]
  },
  {
   "cell_type": "code",
   "execution_count": null,
   "id": "776e8dc7",
   "metadata": {},
   "outputs": [
    {
     "name": "stdout",
     "output_type": "stream",
     "text": [
      "3. Certain Event:\n",
      "Probability Distribution:\n",
      "  'Success': 1.000000\n",
      "\n",
      "Sample certain event: Success\n",
      "\n"
     ]
    }
   ],
   "source": [
    "certain_event = ProbabilityMonad.pure(\"Success\")\n",
    "print(\"3. Certain Event:\")\n",
    "print(certain_event)\n",
    "print(f\"Sample certain event: {certain_event.sample()}\\n\")"
   ]
  },
  {
   "cell_type": "markdown",
   "id": "86497d3b",
   "metadata": {},
   "source": [
    "### Example 4: Mapping"
   ]
  },
  {
   "cell_type": "code",
   "execution_count": 15,
   "id": "cc6a0464",
   "metadata": {},
   "outputs": [
    {
     "name": "stdout",
     "output_type": "stream",
     "text": [
      "4. Squared Numbers (map_f):\n",
      "Probability Distribution:\n",
      "  2: 0.500000\n",
      "  1: 0.300000\n",
      "  3: 0.200000\n",
      "\n",
      "Mapped to squares:\n",
      "Probability Distribution:\n",
      "  4: 0.500000\n",
      "  1: 0.300000\n",
      "  9: 0.200000\n",
      "\n",
      "Expected value of squared numbers: 4.100\n",
      "\n"
     ]
    }
   ],
   "source": [
    "numbers = ProbabilityMonad({ 1: 0.3, 2: 0.5, 3: 0.2 })\n",
    "squared_numbers = numbers.map_f(lambda x: x * x)\n",
    "print(\"4. Squared Numbers (map_f):\")\n",
    "print(numbers)\n",
    "print(f\"Mapped to squares:\\n{squared_numbers}\")\n",
    "print(f\"Expected value of squared numbers: {squared_numbers.expected_value():.3f}\\n\")"
   ]
  },
  {
   "cell_type": "markdown",
   "id": "27634b6a",
   "metadata": {},
   "source": [
    "### Example 5: Mapping with Pipe (|)"
   ]
  },
  {
   "cell_type": "code",
   "execution_count": null,
   "id": "60668d53",
   "metadata": {},
   "outputs": [
    {
     "name": "stdout",
     "output_type": "stream",
     "text": [
      "Mapped to squares (using | operator):\n",
      "Probability Distribution:\n",
      "  4: 0.500000\n",
      "  1: 0.300000\n",
      "  9: 0.200000\n",
      "\n"
     ]
    }
   ],
   "source": [
    "squared_numbers_op = numbers | (lambda x: x * x)\n",
    "print(f\"5. Mapped to squares (using | operator):\\n{squared_numbers_op}\")\n",
    "assert squared_numbers == squared_numbers_op, \"map_f operator not working as expected!\""
   ]
  },
  {
   "cell_type": "markdown",
   "id": "3a50d455",
   "metadata": {},
   "source": [
    "### Example 6: Mapping Coin Outcomes to Uppercase"
   ]
  },
  {
   "cell_type": "code",
   "execution_count": null,
   "id": "107fe0a5",
   "metadata": {},
   "outputs": [
    {
     "name": "stdout",
     "output_type": "stream",
     "text": [
      "5. Uppercase Coin (map_f):\n",
      "Probability Distribution:\n",
      "  'HEADS': 0.500000\n",
      "  'TAILS': 0.500000\n",
      "\n",
      "\n",
      "\n"
     ]
    }
   ],
   "source": [
    "upper_coin = coin.map_f(lambda s: s.upper())\n",
    "print(\"6. Uppercase Coin (map_f):\")\n",
    "print(upper_coin)\n",
    "print(\"\\n\")"
   ]
  },
  {
   "cell_type": "markdown",
   "id": "3d8c1763",
   "metadata": {},
   "source": [
    "### Example 7: Conditionals"
   ]
  },
  {
   "cell_type": "code",
   "execution_count": null,
   "id": "db370cc6",
   "metadata": {},
   "outputs": [
    {
     "name": "stdout",
     "output_type": "stream",
     "text": [
      "6. Coin then Die (bind):\n",
      "Probability Distribution:\n",
      "  6: 0.226190\n",
      "  1: 0.154762\n",
      "  2: 0.154762\n",
      "  3: 0.154762\n",
      "  4: 0.154762\n",
      "  5: 0.154762\n",
      "\n",
      "Expected value of combined roll: 3.679\n",
      "Sample combined roll (5): (3, 2, 1, 3, 4)\n",
      "\n",
      "P(6) in combined roll: 0.22619 (Expected: 0.22619)\n",
      "\n"
     ]
    }
   ],
   "source": [
    "def roll_if_heads_else_loaded_die(coin_outcome: str) -> ProbabilityMonad:\n",
    "    if coin_outcome == \"Heads\":\n",
    "        return ProbabilityMonad.from_weighted_choices({1:1, 2:1, 3:1, 4:1, 5:1, 6:1}) # Fair die\n",
    "    elif coin_outcome == \"Tails\":\n",
    "        return loaded_die # Our previously defined loaded die\n",
    "    else:\n",
    "        # Should not happen with well-formed initial coin distribution\n",
    "        return ProbabilityMonad.pure(0) \n",
    "\n",
    "combined_roll = coin.bind(roll_if_heads_else_loaded_die)\n",
    "print(\"7. Coin then Die (bind):\")\n",
    "print(combined_roll)\n",
    "print(f\"Expected value of combined roll: {combined_roll.expected_value():.3f}\")\n",
    "print(f\"Sample combined roll (5): {combined_roll.sample(5)}\\n\")\n",
    "\n",
    "# Verify probabilities (e.g., P(6) should be 0.5 * (1/6) + 0.5 * (2/7) )\n",
    "# P(6) = 1/12 + 1/7 = 7/84 + 12/84 = 19/84 = 0.22619\n",
    "if 6 in combined_roll.distribution:\n",
    "    print(f\"P(6) in combined roll: {combined_roll.distribution[6]:.5f} (Expected: 0.22619)\\n\")\n"
   ]
  },
  {
   "cell_type": "markdown",
   "id": "aa5c5078",
   "metadata": {},
   "source": [
    "### Example 8: Roll Two Dice, Sum Results"
   ]
  },
  {
   "cell_type": "code",
   "execution_count": 17,
   "id": "33b7d643",
   "metadata": {},
   "outputs": [
    {
     "name": "stdout",
     "output_type": "stream",
     "text": [
      "8. Sum of Two Dice (bind chain):\n",
      "Probability Distribution:\n",
      "  7: 0.166667\n",
      "  6: 0.138889\n",
      "  8: 0.138889\n",
      "  5: 0.111111\n",
      "  9: 0.111111\n",
      "  4: 0.083333\n",
      "  10: 0.083333\n",
      "  3: 0.055556\n",
      "  11: 0.055556\n",
      "  2: 0.027778\n",
      "  12: 0.027778\n",
      "\n",
      "Expected value of sum of two dice: 7.000\n",
      "\n"
     ]
    }
   ],
   "source": [
    "def roll_die() -> ProbabilityMonad:\n",
    "    return ProbabilityMonad.from_weighted_choices({1:1, 2:1, 3:1, 4:1, 5:1, 6:1})\n",
    "\n",
    "# First die roll\n",
    "first_roll = roll_die()\n",
    "\n",
    "# Now, bind the first roll to a function that performs the second roll\n",
    "# and combines the results.\n",
    "sum_of_two_dice = first_roll.bind(\n",
    "    lambda r1: roll_die().bind( # For each result of r1, bind the second roll\n",
    "        lambda r2: ProbabilityMonad.pure(r1 + r2) # Then pure the sum\n",
    "    )\n",
    ")\n",
    "print(\"8. Sum of Two Dice (bind chain):\")\n",
    "print(sum_of_two_dice)\n",
    "print(f\"Expected value of sum of two dice: {sum_of_two_dice.expected_value():.3f}\\n\")\n"
   ]
  },
  {
   "cell_type": "markdown",
   "id": "f4e97457",
   "metadata": {},
   "source": [
    "### Example 9: Using the >> Operator for Bind"
   ]
  },
  {
   "cell_type": "code",
   "execution_count": 19,
   "id": "ff5ade63",
   "metadata": {},
   "outputs": [
    {
     "name": "stdout",
     "output_type": "stream",
     "text": [
      "9. Sum of Two Dice (using >> operator):\n",
      "Probability Distribution:\n",
      "  7: 0.166667\n",
      "  6: 0.138889\n",
      "  8: 0.138889\n",
      "  5: 0.111111\n",
      "  9: 0.111111\n",
      "  4: 0.083333\n",
      "  10: 0.083333\n",
      "  3: 0.055556\n",
      "  11: 0.055556\n",
      "  2: 0.027778\n",
      "  12: 0.027778\n",
      "\n"
     ]
    }
   ],
   "source": [
    "sum_of_two_dice_op = roll_die() >> (\n",
    "    lambda r1: roll_die() >> (lambda r2: ProbabilityMonad.pure(r1 + r2))\n",
    ")\n",
    "print(f\"9. Sum of Two Dice (using >> operator):\\n{sum_of_two_dice_op}\")\n",
    "assert sum_of_two_dice == sum_of_two_dice_op, \"bind operator not working as expected!\""
   ]
  },
  {
   "cell_type": "markdown",
   "id": "121f26ca",
   "metadata": {},
   "source": [
    "### Example 10: Chained Operations on Apples\n",
    "\n",
    "Scenario: You have a number of apples. You give away some, then gain some.\n"
   ]
  },
  {
   "cell_type": "code",
   "execution_count": 20,
   "id": "75033ae5",
   "metadata": {},
   "outputs": [
    {
     "name": "stdout",
     "output_type": "stream",
     "text": [
      "10. Chained Operations (Apples):\n",
      "Probability Distribution:\n",
      "  12: 0.250000\n",
      "  13: 0.250000\n",
      "  14: 0.250000\n",
      "  11: 0.125000\n",
      "  15: 0.125000\n",
      "\n",
      "Expected final apples: 13.000\n",
      "\n"
     ]
    }
   ],
   "source": [
    "# Initial apples: 10 with 50% prob, 12 with 50% prob\n",
    "initial_apples = ProbabilityMonad({10: 0.5, 12: 0.5})\n",
    "\n",
    "# First action: Give away 1 or 2 apples (each 50% prob)\n",
    "def give_away(current_apples: int) -> ProbabilityMonad:\n",
    "    return ProbabilityMonad({current_apples - 1: 0.5, current_apples - 2: 0.5})\n",
    "\n",
    "# Second action: Gain 3 or 4 apples (each 50% prob)\n",
    "def gain_some(current_apples: int) -> ProbabilityMonad:\n",
    "    return ProbabilityMonad({current_apples + 3: 0.5, current_apples + 4: 0.5})\n",
    "\n",
    "# Chain the operations\n",
    "final_apples = initial_apples.bind(give_away).bind(gain_some)\n",
    "# Or using the operator:\n",
    "# final_apples_op = initial_apples >> give_away >> gain_some\n",
    "\n",
    "print(\"10. Chained Operations (Apples):\")\n",
    "print(final_apples)\n",
    "print(f\"Expected final apples: {final_apples.expected_value():.3f}\\n\")"
   ]
  },
  {
   "cell_type": "markdown",
   "id": "f1182a57",
   "metadata": {},
   "source": [
    "### Example 11: Error Handling"
   ]
  },
  {
   "cell_type": "code",
   "execution_count": 22,
   "id": "bf35f17d",
   "metadata": {},
   "outputs": [
    {
     "name": "stdout",
     "output_type": "stream",
     "text": [
      "Warning: Probabilities sum to 0.8999999999999999. Attempting to normalize.\n",
      "This should warn, then normalize:\n",
      "Probability Distribution:\n",
      "  'A': 0.666667\n",
      "  'B': 0.333333\n",
      "\n",
      "Caught expected error for negative probability: Probability for outcome 'B' cannot be negative: -0.5\n",
      "\n",
      "Caught expected error for non-monad return from bind: The function passed to bind must return a ProbabilityMonad, but got <class 'int'>\n",
      "\n"
     ]
    }
   ],
   "source": [
    "try:\n",
    "    bad_prob = ProbabilityMonad({\"A\": 0.6, \"B\": 0.3}) # Sums to 0.9\n",
    "    print(\"This should warn, then normalize:\")\n",
    "    print(bad_prob)\n",
    "except ValueError as e:\n",
    "    print(f\"Caught expected error for bad sum: {e}\\n\")\n",
    "\n",
    "try:\n",
    "    negative_prob = ProbabilityMonad({\"A\": 0.5, \"B\": -0.5, \"C\": 1.0})\n",
    "except ValueError as e:\n",
    "    print(f\"Caught expected error for negative probability: {e}\\n\")\n",
    "\n",
    "try:\n",
    "    # .bind(_) should return a Monad\n",
    "    non_monad_return = ProbabilityMonad.pure(1).bind(lambda x: x * 2)\n",
    "except TypeError as e:\n",
    "    print(f\"Caught expected error for non-monad return from bind: {e}\\n\")"
   ]
  },
  {
   "cell_type": "markdown",
   "id": "ca2a1d90",
   "metadata": {},
   "source": [
    "## Limitations\n",
    "\n",
    "**Discrete Only.** This implementation is for discrete probability\n",
    "distributions (finite or countably infinite outcomes). Modeling\n",
    "continuous probability distributions would require significantly\n",
    "different mathematical tools (measure theory, integrals, etc.) and\n",
    "a much more complex data structure (e.g., functions representing\n",
    "PDFs/CDFs or Monte Carlo simulations).\n",
    "\n",
    "**Performance for Large Distributions.** For very large discrete\n",
    "distributions, dictionary operations might become slow. For extremely\n",
    "large distributions, a sparse representation or alternative data\n",
    "structures might be needed.\n",
    "\n",
    "**Floating Point Precision.** Probability calculations are inherently\n",
    "susceptible to floating-point errors. I've added an `_EPSILON` for\n",
    "comparisons and included normalization logic to mitigate this, but\n",
    "it's always a concern.\n",
    "\n",
    "**Type Safety.** While Python's type hints help, runtime type\n",
    "checking for `func` in `bind` and `map_f` is still limited to\n",
    "checking `isinstance(inner_monad, ProbabilityMonad)`."
   ]
  },
  {
   "cell_type": "markdown",
   "id": "2763ca1e",
   "metadata": {},
   "source": []
  }
 ],
 "metadata": {
  "kernelspec": {
   "display_name": "3.12.3",
   "language": "python",
   "name": "python3"
  },
  "language_info": {
   "codemirror_mode": {
    "name": "ipython",
    "version": 3
   },
   "file_extension": ".py",
   "mimetype": "text/x-python",
   "name": "python",
   "nbconvert_exporter": "python",
   "pygments_lexer": "ipython3",
   "version": "3.12.3"
  }
 },
 "nbformat": 4,
 "nbformat_minor": 5
}
